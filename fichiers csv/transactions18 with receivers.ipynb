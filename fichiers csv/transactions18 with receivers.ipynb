{
 "cells": [
  {
   "cell_type": "code",
   "execution_count": 1,
   "metadata": {},
   "outputs": [],
   "source": [
    "import numpy as np \n",
    "import pandas as pd \n",
    "import matplotlib.pyplot as plt \n",
    "import seaborn as sns\n"
   ]
  },
  {
   "cell_type": "code",
   "execution_count": 25,
   "metadata": {},
   "outputs": [
    {
     "data": {
      "text/html": [
       "<div>\n",
       "<style scoped>\n",
       "    .dataframe tbody tr th:only-of-type {\n",
       "        vertical-align: middle;\n",
       "    }\n",
       "\n",
       "    .dataframe tbody tr th {\n",
       "        vertical-align: top;\n",
       "    }\n",
       "\n",
       "    .dataframe thead th {\n",
       "        text-align: right;\n",
       "    }\n",
       "</style>\n",
       "<table border=\"1\" class=\"dataframe\">\n",
       "  <thead>\n",
       "    <tr style=\"text-align: right;\">\n",
       "      <th></th>\n",
       "      <th>index</th>\n",
       "      <th>Account_No</th>\n",
       "      <th>DATE</th>\n",
       "      <th>TRANSACTION_DETAILS</th>\n",
       "      <th>WITHDRAWAL_AMT</th>\n",
       "      <th>DEPOSIT_AMT</th>\n",
       "      <th>BALANCE_AMT</th>\n",
       "      <th>year</th>\n",
       "      <th>month</th>\n",
       "      <th>day</th>\n",
       "      <th>type</th>\n",
       "      <th>AMOUNT</th>\n",
       "      <th>receiver_Account</th>\n",
       "    </tr>\n",
       "  </thead>\n",
       "  <tbody>\n",
       "    <tr>\n",
       "      <th>0</th>\n",
       "      <td>0</td>\n",
       "      <td>409000611074'</td>\n",
       "      <td>2018-01-01</td>\n",
       "      <td>INDO GIBL Indiaforensic STL31121</td>\n",
       "      <td>14000.0</td>\n",
       "      <td>0.0</td>\n",
       "      <td>697823.0</td>\n",
       "      <td>2018</td>\n",
       "      <td>1</td>\n",
       "      <td>1</td>\n",
       "      <td>PAYEMENT</td>\n",
       "      <td>14000.0</td>\n",
       "      <td>M1979787155</td>\n",
       "    </tr>\n",
       "    <tr>\n",
       "      <th>1</th>\n",
       "      <td>1</td>\n",
       "      <td>409000611074'</td>\n",
       "      <td>2018-01-01</td>\n",
       "      <td>INDO GIBL Indiaforensic STL30121</td>\n",
       "      <td>54250.0</td>\n",
       "      <td>0.0</td>\n",
       "      <td>643573.0</td>\n",
       "      <td>2018</td>\n",
       "      <td>1</td>\n",
       "      <td>1</td>\n",
       "      <td>DEBIT</td>\n",
       "      <td>54250.0</td>\n",
       "      <td>M2044282225</td>\n",
       "    </tr>\n",
       "    <tr>\n",
       "      <th>2</th>\n",
       "      <td>2</td>\n",
       "      <td>409000611074'</td>\n",
       "      <td>2018-01-02</td>\n",
       "      <td>INDO GIBL Indiaforensic STL01011</td>\n",
       "      <td>147500.0</td>\n",
       "      <td>0.0</td>\n",
       "      <td>496073.0</td>\n",
       "      <td>2018</td>\n",
       "      <td>1</td>\n",
       "      <td>2</td>\n",
       "      <td>PAYEMENT</td>\n",
       "      <td>147500.0</td>\n",
       "      <td>C553264065</td>\n",
       "    </tr>\n",
       "    <tr>\n",
       "      <th>3</th>\n",
       "      <td>3</td>\n",
       "      <td>409000611074'</td>\n",
       "      <td>2018-01-03</td>\n",
       "      <td>FDRL/INTERNAL FUND TRANSFE</td>\n",
       "      <td>0.0</td>\n",
       "      <td>500000.0</td>\n",
       "      <td>996073.0</td>\n",
       "      <td>2018</td>\n",
       "      <td>1</td>\n",
       "      <td>3</td>\n",
       "      <td>TRANSFER</td>\n",
       "      <td>500000.0</td>\n",
       "      <td>C38997010</td>\n",
       "    </tr>\n",
       "    <tr>\n",
       "      <th>4</th>\n",
       "      <td>4</td>\n",
       "      <td>409000611074'</td>\n",
       "      <td>2018-01-03</td>\n",
       "      <td>INDO GIBL Indiaforensic STL02011</td>\n",
       "      <td>323500.0</td>\n",
       "      <td>0.0</td>\n",
       "      <td>672573.0</td>\n",
       "      <td>2018</td>\n",
       "      <td>1</td>\n",
       "      <td>3</td>\n",
       "      <td>PAYEMENT</td>\n",
       "      <td>323500.0</td>\n",
       "      <td>M1230701703</td>\n",
       "    </tr>\n",
       "  </tbody>\n",
       "</table>\n",
       "</div>"
      ],
      "text/plain": [
       "   index     Account_No       DATE               TRANSACTION_DETAILS  \\\n",
       "0      0  409000611074' 2018-01-01  INDO GIBL Indiaforensic STL31121   \n",
       "1      1  409000611074' 2018-01-01  INDO GIBL Indiaforensic STL30121   \n",
       "2      2  409000611074' 2018-01-02  INDO GIBL Indiaforensic STL01011   \n",
       "3      3  409000611074' 2018-01-03        FDRL/INTERNAL FUND TRANSFE   \n",
       "4      4  409000611074' 2018-01-03  INDO GIBL Indiaforensic STL02011   \n",
       "\n",
       "   WITHDRAWAL_AMT  DEPOSIT_AMT  BALANCE_AMT  year  month  day      type  \\\n",
       "0         14000.0          0.0     697823.0  2018      1    1  PAYEMENT   \n",
       "1         54250.0          0.0     643573.0  2018      1    1     DEBIT   \n",
       "2        147500.0          0.0     496073.0  2018      1    2  PAYEMENT   \n",
       "3             0.0     500000.0     996073.0  2018      1    3  TRANSFER   \n",
       "4        323500.0          0.0     672573.0  2018      1    3  PAYEMENT   \n",
       "\n",
       "     AMOUNT receiver_Account  \n",
       "0   14000.0      M1979787155  \n",
       "1   54250.0      M2044282225  \n",
       "2  147500.0       C553264065  \n",
       "3  500000.0        C38997010  \n",
       "4  323500.0      M1230701703  "
      ]
     },
     "execution_count": 25,
     "metadata": {},
     "output_type": "execute_result"
    }
   ],
   "source": [
    "# df=pd.read_csv(\"transactions2018.csv\")\n",
    "# df.head()\n",
    "xlsx = pd.ExcelFile('transactions18withreceiver.xlsx')\n",
    "df = pd.read_excel(xlsx)\n",
    "df.head()"
   ]
  },
  {
   "cell_type": "code",
   "execution_count": 67,
   "metadata": {},
   "outputs": [],
   "source": [
    "df1=df[(df[\"month\"]==1)&(df[\"day\"]==1)]"
   ]
  },
  {
   "cell_type": "code",
   "execution_count": 68,
   "metadata": {},
   "outputs": [
    {
     "data": {
      "text/plain": [
       "(57, 13)"
      ]
     },
     "execution_count": 68,
     "metadata": {},
     "output_type": "execute_result"
    }
   ],
   "source": [
    "df1.shape"
   ]
  },
  {
   "cell_type": "code",
   "execution_count": 29,
   "metadata": {},
   "outputs": [],
   "source": [
    "# donow=pd.read_csv(\"donow.csv\")\n",
    "# donow.head()\n",
    "# df[\"receiver_Account\"]=donow[\"nameDest\"][0:len(df)]"
   ]
  },
  {
   "cell_type": "code",
   "execution_count": 6,
   "metadata": {},
   "outputs": [],
   "source": [
    "df[\"receiver_Account\"]=donow[\"nameDest\"][0:len(df)]"
   ]
  },
  {
   "cell_type": "code",
   "execution_count": 10,
   "metadata": {},
   "outputs": [
    {
     "data": {
      "text/plain": [
       "21063"
      ]
     },
     "execution_count": 10,
     "metadata": {},
     "output_type": "execute_result"
    }
   ],
   "source": [
    "len(list(df[\"receiver_Account\"].unique()))"
   ]
  },
  {
   "cell_type": "code",
   "execution_count": 19,
   "metadata": {},
   "outputs": [
    {
     "data": {
      "text/plain": [
       "array([\"409000611074'\", \"409000493201'\", \"409000425051'\", \"409000405747'\",\n",
       "       \"409000438611'\", \"409000493210'\", \"409000438620'\", \"1196711'\",\n",
       "       \"1196428'\", \"409000362497'\", 'A', 'B'], dtype=object)"
      ]
     },
     "execution_count": 19,
     "metadata": {},
     "output_type": "execute_result"
    }
   ],
   "source": [
    "df.Account_No.unique()"
   ]
  },
  {
   "cell_type": "code",
   "execution_count": 49,
   "metadata": {},
   "outputs": [
    {
     "data": {
      "text/plain": [
       "(12, 13)"
      ]
     },
     "execution_count": 49,
     "metadata": {},
     "output_type": "execute_result"
    }
   ],
   "source": [
    "df1[df1[\"Account_No\"]==\"409000405747'\"].shape"
   ]
  },
  {
   "cell_type": "code",
   "execution_count": 50,
   "metadata": {},
   "outputs": [
    {
     "data": {
      "text/plain": [
       "12"
      ]
     },
     "execution_count": 50,
     "metadata": {},
     "output_type": "execute_result"
    }
   ],
   "source": [
    "len(list(df1[df1[\"Account_No\"]==\"409000405747'\"][\"receiver_Account\"].unique()))"
   ]
  },
  {
   "cell_type": "code",
   "execution_count": 69,
   "metadata": {},
   "outputs": [],
   "source": [
    "nodes=pd.DataFrame()\n",
    "clients=list(df.Account_No.unique())\n",
    "nodes[\"id\"]=clients\n",
    "nodes[\"group\"]=0"
   ]
  },
  {
   "cell_type": "code",
   "execution_count": 70,
   "metadata": {},
   "outputs": [
    {
     "data": {
      "text/html": [
       "<div>\n",
       "<style scoped>\n",
       "    .dataframe tbody tr th:only-of-type {\n",
       "        vertical-align: middle;\n",
       "    }\n",
       "\n",
       "    .dataframe tbody tr th {\n",
       "        vertical-align: top;\n",
       "    }\n",
       "\n",
       "    .dataframe thead th {\n",
       "        text-align: right;\n",
       "    }\n",
       "</style>\n",
       "<table border=\"1\" class=\"dataframe\">\n",
       "  <thead>\n",
       "    <tr style=\"text-align: right;\">\n",
       "      <th></th>\n",
       "      <th>id</th>\n",
       "      <th>group</th>\n",
       "    </tr>\n",
       "  </thead>\n",
       "  <tbody>\n",
       "    <tr>\n",
       "      <th>0</th>\n",
       "      <td>409000611074'</td>\n",
       "      <td>0</td>\n",
       "    </tr>\n",
       "    <tr>\n",
       "      <th>1</th>\n",
       "      <td>409000493201'</td>\n",
       "      <td>0</td>\n",
       "    </tr>\n",
       "    <tr>\n",
       "      <th>2</th>\n",
       "      <td>409000425051'</td>\n",
       "      <td>0</td>\n",
       "    </tr>\n",
       "    <tr>\n",
       "      <th>3</th>\n",
       "      <td>409000405747'</td>\n",
       "      <td>0</td>\n",
       "    </tr>\n",
       "    <tr>\n",
       "      <th>4</th>\n",
       "      <td>409000438611'</td>\n",
       "      <td>0</td>\n",
       "    </tr>\n",
       "    <tr>\n",
       "      <th>5</th>\n",
       "      <td>409000493210'</td>\n",
       "      <td>0</td>\n",
       "    </tr>\n",
       "    <tr>\n",
       "      <th>6</th>\n",
       "      <td>409000438620'</td>\n",
       "      <td>0</td>\n",
       "    </tr>\n",
       "    <tr>\n",
       "      <th>7</th>\n",
       "      <td>1196711'</td>\n",
       "      <td>0</td>\n",
       "    </tr>\n",
       "    <tr>\n",
       "      <th>8</th>\n",
       "      <td>1196428'</td>\n",
       "      <td>0</td>\n",
       "    </tr>\n",
       "    <tr>\n",
       "      <th>9</th>\n",
       "      <td>409000362497'</td>\n",
       "      <td>0</td>\n",
       "    </tr>\n",
       "    <tr>\n",
       "      <th>10</th>\n",
       "      <td>A</td>\n",
       "      <td>0</td>\n",
       "    </tr>\n",
       "    <tr>\n",
       "      <th>11</th>\n",
       "      <td>B</td>\n",
       "      <td>0</td>\n",
       "    </tr>\n",
       "  </tbody>\n",
       "</table>\n",
       "</div>"
      ],
      "text/plain": [
       "               id  group\n",
       "0   409000611074'      0\n",
       "1   409000493201'      0\n",
       "2   409000425051'      0\n",
       "3   409000405747'      0\n",
       "4   409000438611'      0\n",
       "5   409000493210'      0\n",
       "6   409000438620'      0\n",
       "7        1196711'      0\n",
       "8        1196428'      0\n",
       "9   409000362497'      0\n",
       "10              A      0\n",
       "11              B      0"
      ]
     },
     "execution_count": 70,
     "metadata": {},
     "output_type": "execute_result"
    }
   ],
   "source": [
    "nodes"
   ]
  },
  {
   "cell_type": "code",
   "execution_count": 71,
   "metadata": {},
   "outputs": [],
   "source": [
    "nodes2=pd.DataFrame()\n",
    "td=list(df1.receiver_Account.unique())\n",
    "nodes2[\"id\"]=td\n",
    "# nodes2['group'] = np.arange([1,len(nodes2)])\n",
    "nodes2['group'] = 1"
   ]
  },
  {
   "cell_type": "code",
   "execution_count": 55,
   "metadata": {},
   "outputs": [],
   "source": [
    "# nodes2"
   ]
  },
  {
   "cell_type": "code",
   "execution_count": 72,
   "metadata": {},
   "outputs": [],
   "source": [
    "nodes=pd.concat([nodes,nodes2], ignore_index=True)"
   ]
  },
  {
   "cell_type": "code",
   "execution_count": 73,
   "metadata": {},
   "outputs": [],
   "source": [
    "nodes.to_csv ('nodesmo1day1receiver.csv', index = None, header=True)\n"
   ]
  },
  {
   "cell_type": "code",
   "execution_count": 74,
   "metadata": {},
   "outputs": [],
   "source": [
    "clients=list(df['Account_No'].unique())\n",
    "link=pd.DataFrame()\n",
    "\n",
    "for acc in clients:\n",
    "\n",
    "    df2=df1[df1[\"Account_No\"]==acc]\n",
    "    link1=pd.DataFrame()\n",
    "\n",
    "\n",
    "    link1[\"target\"]=list(df2['receiver_Account'].value_counts().index)\n",
    "    link1[\"source\"]=acc\n",
    "    link1[\"value\"]= list(df2['receiver_Account'].value_counts())\n",
    "    link=pd.concat([link,link1], ignore_index=True)\n",
    "\n"
   ]
  },
  {
   "cell_type": "code",
   "execution_count": 75,
   "metadata": {},
   "outputs": [],
   "source": [
    "link.to_csv ('linksmo1day1receiver.csv', index = None, header=True)\n"
   ]
  },
  {
   "cell_type": "code",
   "execution_count": null,
   "metadata": {},
   "outputs": [],
   "source": []
  },
  {
   "cell_type": "code",
   "execution_count": 64,
   "metadata": {},
   "outputs": [
    {
     "data": {
      "text/plain": [
       "(35720, 13)"
      ]
     },
     "execution_count": 64,
     "metadata": {},
     "output_type": "execute_result"
    }
   ],
   "source": [
    "df.shape"
   ]
  },
  {
   "cell_type": "code",
   "execution_count": 65,
   "metadata": {},
   "outputs": [],
   "source": [
    "# df.to_csv(\"transactions18withreceiver.csv\", index = None, header=True)"
   ]
  },
  {
   "cell_type": "code",
   "execution_count": 66,
   "metadata": {},
   "outputs": [],
   "source": [
    "# data=pd.read_csv(\"transactions18withreceiver.csv\")"
   ]
  },
  {
   "cell_type": "code",
   "execution_count": null,
   "metadata": {},
   "outputs": [],
   "source": []
  }
 ],
 "metadata": {
  "kernelspec": {
   "display_name": "Python 3",
   "language": "python",
   "name": "python3"
  },
  "language_info": {
   "codemirror_mode": {
    "name": "ipython",
    "version": 3
   },
   "file_extension": ".py",
   "mimetype": "text/x-python",
   "name": "python",
   "nbconvert_exporter": "python",
   "pygments_lexer": "ipython3",
   "version": "3.7.1"
  }
 },
 "nbformat": 4,
 "nbformat_minor": 2
}
