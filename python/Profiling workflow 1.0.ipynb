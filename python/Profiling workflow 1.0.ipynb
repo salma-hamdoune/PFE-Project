{
 "cells": [
  {
   "cell_type": "code",
   "execution_count": 1,
   "metadata": {},
   "outputs": [],
   "source": [
    "import numpy as np \n",
    "import pandas as pd \n",
    "import matplotlib.pyplot as plt \n",
    "import seaborn as sns\n",
    "from sklearn.preprocessing import StandardScaler\n",
    "from sklearn.cluster import KMeans\n"
   ]
  },
  {
   "cell_type": "markdown",
   "metadata": {},
   "source": [
    "# Features engineering\n",
    "## Input: transactions dataset (name: transactions 2018)\n",
    "## Output: dataset with features for profiling normalized (name: data)"
   ]
  },
  {
   "cell_type": "code",
   "execution_count": 2,
   "metadata": {},
   "outputs": [
    {
     "data": {
      "text/html": [
       "<div>\n",
       "<style scoped>\n",
       "    .dataframe tbody tr th:only-of-type {\n",
       "        vertical-align: middle;\n",
       "    }\n",
       "\n",
       "    .dataframe tbody tr th {\n",
       "        vertical-align: top;\n",
       "    }\n",
       "\n",
       "    .dataframe thead th {\n",
       "        text-align: right;\n",
       "    }\n",
       "</style>\n",
       "<table border=\"1\" class=\"dataframe\">\n",
       "  <thead>\n",
       "    <tr style=\"text-align: right;\">\n",
       "      <th></th>\n",
       "      <th>index</th>\n",
       "      <th>Account_No</th>\n",
       "      <th>DATE</th>\n",
       "      <th>TRANSACTION_DETAILS</th>\n",
       "      <th>WITHDRAWAL_AMT</th>\n",
       "      <th>DEPOSIT_AMT</th>\n",
       "      <th>BALANCE_AMT</th>\n",
       "      <th>year</th>\n",
       "      <th>month</th>\n",
       "      <th>day</th>\n",
       "      <th>type</th>\n",
       "      <th>AMOUNT</th>\n",
       "    </tr>\n",
       "  </thead>\n",
       "  <tbody>\n",
       "    <tr>\n",
       "      <th>0</th>\n",
       "      <td>0</td>\n",
       "      <td>409000611074'</td>\n",
       "      <td>2018-01-01</td>\n",
       "      <td>INDO GIBL Indiaforensic STL31121</td>\n",
       "      <td>14000.0</td>\n",
       "      <td>0.0</td>\n",
       "      <td>697823.0</td>\n",
       "      <td>2018</td>\n",
       "      <td>1</td>\n",
       "      <td>1</td>\n",
       "      <td>PAYEMENT</td>\n",
       "      <td>14000.0</td>\n",
       "    </tr>\n",
       "    <tr>\n",
       "      <th>1</th>\n",
       "      <td>1</td>\n",
       "      <td>409000611074'</td>\n",
       "      <td>2018-01-01</td>\n",
       "      <td>INDO GIBL Indiaforensic STL30121</td>\n",
       "      <td>54250.0</td>\n",
       "      <td>0.0</td>\n",
       "      <td>643573.0</td>\n",
       "      <td>2018</td>\n",
       "      <td>1</td>\n",
       "      <td>1</td>\n",
       "      <td>DEBIT</td>\n",
       "      <td>54250.0</td>\n",
       "    </tr>\n",
       "    <tr>\n",
       "      <th>2</th>\n",
       "      <td>2</td>\n",
       "      <td>409000611074'</td>\n",
       "      <td>2018-01-02</td>\n",
       "      <td>INDO GIBL Indiaforensic STL01011</td>\n",
       "      <td>147500.0</td>\n",
       "      <td>0.0</td>\n",
       "      <td>496073.0</td>\n",
       "      <td>2018</td>\n",
       "      <td>1</td>\n",
       "      <td>2</td>\n",
       "      <td>PAYEMENT</td>\n",
       "      <td>147500.0</td>\n",
       "    </tr>\n",
       "    <tr>\n",
       "      <th>3</th>\n",
       "      <td>3</td>\n",
       "      <td>409000611074'</td>\n",
       "      <td>2018-01-03</td>\n",
       "      <td>FDRL/INTERNAL FUND TRANSFE</td>\n",
       "      <td>0.0</td>\n",
       "      <td>500000.0</td>\n",
       "      <td>996073.0</td>\n",
       "      <td>2018</td>\n",
       "      <td>1</td>\n",
       "      <td>3</td>\n",
       "      <td>TRANSFER</td>\n",
       "      <td>500000.0</td>\n",
       "    </tr>\n",
       "    <tr>\n",
       "      <th>4</th>\n",
       "      <td>4</td>\n",
       "      <td>409000611074'</td>\n",
       "      <td>2018-01-03</td>\n",
       "      <td>INDO GIBL Indiaforensic STL02011</td>\n",
       "      <td>323500.0</td>\n",
       "      <td>0.0</td>\n",
       "      <td>672573.0</td>\n",
       "      <td>2018</td>\n",
       "      <td>1</td>\n",
       "      <td>3</td>\n",
       "      <td>PAYEMENT</td>\n",
       "      <td>323500.0</td>\n",
       "    </tr>\n",
       "  </tbody>\n",
       "</table>\n",
       "</div>"
      ],
      "text/plain": [
       "   index     Account_No        DATE               TRANSACTION_DETAILS  \\\n",
       "0      0  409000611074'  2018-01-01  INDO GIBL Indiaforensic STL31121   \n",
       "1      1  409000611074'  2018-01-01  INDO GIBL Indiaforensic STL30121   \n",
       "2      2  409000611074'  2018-01-02  INDO GIBL Indiaforensic STL01011   \n",
       "3      3  409000611074'  2018-01-03        FDRL/INTERNAL FUND TRANSFE   \n",
       "4      4  409000611074'  2018-01-03  INDO GIBL Indiaforensic STL02011   \n",
       "\n",
       "   WITHDRAWAL_AMT  DEPOSIT_AMT  BALANCE_AMT  year  month  day      type  \\\n",
       "0         14000.0          0.0     697823.0  2018      1    1  PAYEMENT   \n",
       "1         54250.0          0.0     643573.0  2018      1    1     DEBIT   \n",
       "2        147500.0          0.0     496073.0  2018      1    2  PAYEMENT   \n",
       "3             0.0     500000.0     996073.0  2018      1    3  TRANSFER   \n",
       "4        323500.0          0.0     672573.0  2018      1    3  PAYEMENT   \n",
       "\n",
       "     AMOUNT  \n",
       "0   14000.0  \n",
       "1   54250.0  \n",
       "2  147500.0  \n",
       "3  500000.0  \n",
       "4  323500.0  "
      ]
     },
     "execution_count": 2,
     "metadata": {},
     "output_type": "execute_result"
    }
   ],
   "source": [
    "df=pd.read_csv(\"transactions2018.csv\")\n",
    "df.head()"
   ]
  },
  {
   "cell_type": "code",
   "execution_count": 3,
   "metadata": {},
   "outputs": [],
   "source": [
    "profiling_df=df.drop([\"index\",\"Account_No\",\"TRANSACTION_DETAILS\",\"DATE\",\"WITHDRAWAL_AMT\",\"DEPOSIT_AMT\",\"year\",\"type\",\"month\",\"day\"], axis=1)"
   ]
  },
  {
   "cell_type": "code",
   "execution_count": 4,
   "metadata": {},
   "outputs": [
    {
     "data": {
      "text/html": [
       "<div>\n",
       "<style scoped>\n",
       "    .dataframe tbody tr th:only-of-type {\n",
       "        vertical-align: middle;\n",
       "    }\n",
       "\n",
       "    .dataframe tbody tr th {\n",
       "        vertical-align: top;\n",
       "    }\n",
       "\n",
       "    .dataframe thead th {\n",
       "        text-align: right;\n",
       "    }\n",
       "</style>\n",
       "<table border=\"1\" class=\"dataframe\">\n",
       "  <thead>\n",
       "    <tr style=\"text-align: right;\">\n",
       "      <th></th>\n",
       "      <th>BALANCE_AMT</th>\n",
       "      <th>AMOUNT</th>\n",
       "    </tr>\n",
       "  </thead>\n",
       "  <tbody>\n",
       "    <tr>\n",
       "      <th>0</th>\n",
       "      <td>697823.0</td>\n",
       "      <td>14000.0</td>\n",
       "    </tr>\n",
       "    <tr>\n",
       "      <th>1</th>\n",
       "      <td>643573.0</td>\n",
       "      <td>54250.0</td>\n",
       "    </tr>\n",
       "    <tr>\n",
       "      <th>2</th>\n",
       "      <td>496073.0</td>\n",
       "      <td>147500.0</td>\n",
       "    </tr>\n",
       "    <tr>\n",
       "      <th>3</th>\n",
       "      <td>996073.0</td>\n",
       "      <td>500000.0</td>\n",
       "    </tr>\n",
       "    <tr>\n",
       "      <th>4</th>\n",
       "      <td>672573.0</td>\n",
       "      <td>323500.0</td>\n",
       "    </tr>\n",
       "  </tbody>\n",
       "</table>\n",
       "</div>"
      ],
      "text/plain": [
       "   BALANCE_AMT    AMOUNT\n",
       "0     697823.0   14000.0\n",
       "1     643573.0   54250.0\n",
       "2     496073.0  147500.0\n",
       "3     996073.0  500000.0\n",
       "4     672573.0  323500.0"
      ]
     },
     "execution_count": 4,
     "metadata": {},
     "output_type": "execute_result"
    }
   ],
   "source": [
    "profiling_df.head()"
   ]
  },
  {
   "cell_type": "code",
   "execution_count": 5,
   "metadata": {},
   "outputs": [
    {
     "data": {
      "text/plain": [
       "BALANCE_AMT    -3.957188\n",
       "AMOUNT         31.617975\n",
       "dtype: float64"
      ]
     },
     "execution_count": 5,
     "metadata": {},
     "output_type": "execute_result"
    }
   ],
   "source": [
    "profiling_df.skew()"
   ]
  },
  {
   "cell_type": "code",
   "execution_count": 6,
   "metadata": {},
   "outputs": [],
   "source": [
    "profiling_df['AMOUNT']=np.log(profiling_df['AMOUNT'])"
   ]
  },
  {
   "cell_type": "code",
   "execution_count": 7,
   "metadata": {},
   "outputs": [],
   "source": [
    "#Standarize features values to apply clustering methods\n",
    "def df_clustering_std(df_clustering):\n",
    "    features=list(df_clustering.columns)\n",
    "    x = df_clustering.loc[:, features].values\n",
    "    #Standardizing the features\n",
    "    x = StandardScaler().fit_transform(x)\n",
    "    d=df_clustering\n",
    "    d[features] =x\n",
    "    return d"
   ]
  },
  {
   "cell_type": "code",
   "execution_count": 8,
   "metadata": {},
   "outputs": [],
   "source": [
    "data=df_clustering_std(profiling_df)"
   ]
  },
  {
   "cell_type": "code",
   "execution_count": 9,
   "metadata": {},
   "outputs": [
    {
     "data": {
      "text/html": [
       "<div>\n",
       "<style scoped>\n",
       "    .dataframe tbody tr th:only-of-type {\n",
       "        vertical-align: middle;\n",
       "    }\n",
       "\n",
       "    .dataframe tbody tr th {\n",
       "        vertical-align: top;\n",
       "    }\n",
       "\n",
       "    .dataframe thead th {\n",
       "        text-align: right;\n",
       "    }\n",
       "</style>\n",
       "<table border=\"1\" class=\"dataframe\">\n",
       "  <thead>\n",
       "    <tr style=\"text-align: right;\">\n",
       "      <th></th>\n",
       "      <th>BALANCE_AMT</th>\n",
       "      <th>AMOUNT</th>\n",
       "    </tr>\n",
       "  </thead>\n",
       "  <tbody>\n",
       "    <tr>\n",
       "      <th>0</th>\n",
       "      <td>0.729389</td>\n",
       "      <td>-0.340374</td>\n",
       "    </tr>\n",
       "    <tr>\n",
       "      <th>1</th>\n",
       "      <td>0.728997</td>\n",
       "      <td>0.044054</td>\n",
       "    </tr>\n",
       "    <tr>\n",
       "      <th>2</th>\n",
       "      <td>0.727931</td>\n",
       "      <td>0.327924</td>\n",
       "    </tr>\n",
       "    <tr>\n",
       "      <th>3</th>\n",
       "      <td>0.731545</td>\n",
       "      <td>0.674389</td>\n",
       "    </tr>\n",
       "    <tr>\n",
       "      <th>4</th>\n",
       "      <td>0.729206</td>\n",
       "      <td>0.550817</td>\n",
       "    </tr>\n",
       "  </tbody>\n",
       "</table>\n",
       "</div>"
      ],
      "text/plain": [
       "   BALANCE_AMT    AMOUNT\n",
       "0     0.729389 -0.340374\n",
       "1     0.728997  0.044054\n",
       "2     0.727931  0.327924\n",
       "3     0.731545  0.674389\n",
       "4     0.729206  0.550817"
      ]
     },
     "execution_count": 9,
     "metadata": {},
     "output_type": "execute_result"
    }
   ],
   "source": [
    "data.head()"
   ]
  },
  {
   "cell_type": "markdown",
   "metadata": {},
   "source": [
    "# Clustering model\n",
    "## Input: dataset data\n",
    "## Output:  number of clusters (k)\n",
    "## +  Centroids coordinates (centroids)\n",
    "## + Cluster of each point (labels)"
   ]
  },
  {
   "cell_type": "code",
   "execution_count": 10,
   "metadata": {},
   "outputs": [],
   "source": [
    "def plot_k(df_clustering_std):\n",
    "    features=list(df_clustering_std.columns)\n",
    "    X1 = df_clustering_std[features].iloc[: , :].values\n",
    "    inertia = []\n",
    "    for n in range(1 , 11):\n",
    "        algorithm = (KMeans(n_clusters = n ,init='k-means++', n_init = 10 ,max_iter=300, \n",
    "                            tol=0.0001,  random_state= 111  , algorithm='elkan') )\n",
    "        algorithm.fit(X1)\n",
    "        inertia.append(algorithm.inertia_)\n",
    "\n",
    "    #Selecting N Clusters based in Inertia (Squared Distance between Centroids and data points, should be less)\n",
    "    plt.figure(1 , figsize = (10 ,6))\n",
    "    plt.plot(np.arange(1 , 11) , inertia , 'o')\n",
    "    plt.plot(np.arange(1 , 11) , inertia , '-' , alpha = 0.5)\n",
    "    plt.xlabel('Number of Clusters') , plt.ylabel('Inertia')\n",
    "    plt.grid(b=True, which='major', color='#666666', linestyle='-')\n",
    "    return plt.show()"
   ]
  },
  {
   "cell_type": "code",
   "execution_count": 11,
   "metadata": {},
   "outputs": [
    {
     "data": {
      "image/png": "[encoded data removed]",
      "text/plain": [
       "<Figure size 720x432 with 1 Axes>"
      ]
     },
     "metadata": {
      "needs_background": "light"
     },
     "output_type": "display_data"
    }
   ],
   "source": [
    "plot_k(data)"
   ]
  },
  {
   "cell_type": "code",
   "execution_count": 12,
   "metadata": {},
   "outputs": [],
   "source": [
    "def kmeans(df_clustering_std,k):\n",
    "    features=list(df_clustering_std.columns)\n",
    "    algorithm = (KMeans(n_clusters = k ,init='k-means++', n_init = 10 ,max_iter=300, \n",
    "                            tol=0.0001,  random_state= 111  , algorithm='elkan') )\n",
    "    X1 = df_clustering_std[features].iloc[: , :].values\n",
    "    algorithm.fit(X1)\n",
    "    labels = algorithm.labels_\n",
    "    centroids = algorithm.cluster_centers_\n",
    "    labelsncentroids=[labels,centroids]\n",
    "    return labelsncentroids"
   ]
  },
  {
   "cell_type": "code",
   "execution_count": 13,
   "metadata": {},
   "outputs": [],
   "source": [
    "k=4\n",
    "labels=kmeans(data,4)[0]\n",
    "centroids=kmeans(data,4)[1]"
   ]
  },
  {
   "cell_type": "markdown",
   "metadata": {},
   "source": [
    "# Centroids table"
   ]
  },
  {
   "cell_type": "code",
   "execution_count": 14,
   "metadata": {},
   "outputs": [],
   "source": [
    "centroids_table=pd.DataFrame()\n",
    "centroids_table[\"profils\"]=list(range(0,k))"
   ]
  },
  {
   "cell_type": "code",
   "execution_count": 15,
   "metadata": {},
   "outputs": [],
   "source": [
    "# ADD Centroids coordinates for each cluster (profile)\n",
    "a=[]\n",
    "for i in range(len(list(centroids))):\n",
    "    a.append(list(centroids)[i][0])\n",
    "centroids_table[\"Balance_AMT_score\"]=a\n",
    "\n",
    "b=[]\n",
    "for i in range(len(list(centroids))):\n",
    "    b.append(list(centroids)[i][1])\n",
    "centroids_table[\"AMOUNT_score\"]=b"
   ]
  },
  {
   "cell_type": "code",
   "execution_count": 16,
   "metadata": {},
   "outputs": [
    {
     "data": {
      "text/html": [
       "<div>\n",
       "<style scoped>\n",
       "    .dataframe tbody tr th:only-of-type {\n",
       "        vertical-align: middle;\n",
       "    }\n",
       "\n",
       "    .dataframe tbody tr th {\n",
       "        vertical-align: top;\n",
       "    }\n",
       "\n",
       "    .dataframe thead th {\n",
       "        text-align: right;\n",
       "    }\n",
       "</style>\n",
       "<table border=\"1\" class=\"dataframe\">\n",
       "  <thead>\n",
       "    <tr style=\"text-align: right;\">\n",
       "      <th></th>\n",
       "      <th>profils</th>\n",
       "      <th>Balance_AMT_score</th>\n",
       "      <th>AMOUNT_score</th>\n",
       "    </tr>\n",
       "  </thead>\n",
       "  <tbody>\n",
       "    <tr>\n",
       "      <th>0</th>\n",
       "      <td>0</td>\n",
       "      <td>-0.031899</td>\n",
       "      <td>1.058027</td>\n",
       "    </tr>\n",
       "    <tr>\n",
       "      <th>1</th>\n",
       "      <td>1</td>\n",
       "      <td>0.765778</td>\n",
       "      <td>-1.026542</td>\n",
       "    </tr>\n",
       "    <tr>\n",
       "      <th>2</th>\n",
       "      <td>2</td>\n",
       "      <td>-6.317620</td>\n",
       "      <td>0.360474</td>\n",
       "    </tr>\n",
       "    <tr>\n",
       "      <th>3</th>\n",
       "      <td>3</td>\n",
       "      <td>-0.468313</td>\n",
       "      <td>-0.191317</td>\n",
       "    </tr>\n",
       "  </tbody>\n",
       "</table>\n",
       "</div>"
      ],
      "text/plain": [
       "   profils  Balance_AMT_score  AMOUNT_score\n",
       "0        0          -0.031899      1.058027\n",
       "1        1           0.765778     -1.026542\n",
       "2        2          -6.317620      0.360474\n",
       "3        3          -0.468313     -0.191317"
      ]
     },
     "execution_count": 16,
     "metadata": {},
     "output_type": "execute_result"
    }
   ],
   "source": [
    "centroids_table"
   ]
  },
  {
   "cell_type": "code",
   "execution_count": 17,
   "metadata": {},
   "outputs": [
    {
     "data": {
      "text/plain": [
       "-0.031898789746013796"
      ]
     },
     "execution_count": 17,
     "metadata": {},
     "output_type": "execute_result"
    }
   ],
   "source": [
    "list(centroids)[0][0]"
   ]
  },
  {
   "cell_type": "code",
   "execution_count": 18,
   "metadata": {},
   "outputs": [],
   "source": [
    "# add cluster number to each point in data and df\n",
    "data[\"cluster\"]=labels\n",
    "df[\"cluster\"]=labels"
   ]
  },
  {
   "cell_type": "code",
   "execution_count": 19,
   "metadata": {},
   "outputs": [],
   "source": [
    "data[\"Account_No\"]=df[\"Account_No\"]"
   ]
  },
  {
   "cell_type": "code",
   "execution_count": 20,
   "metadata": {},
   "outputs": [
    {
     "data": {
      "text/html": [
       "<div>\n",
       "<style scoped>\n",
       "    .dataframe tbody tr th:only-of-type {\n",
       "        vertical-align: middle;\n",
       "    }\n",
       "\n",
       "    .dataframe tbody tr th {\n",
       "        vertical-align: top;\n",
       "    }\n",
       "\n",
       "    .dataframe thead th {\n",
       "        text-align: right;\n",
       "    }\n",
       "</style>\n",
       "<table border=\"1\" class=\"dataframe\">\n",
       "  <thead>\n",
       "    <tr style=\"text-align: right;\">\n",
       "      <th></th>\n",
       "      <th>BALANCE_AMT</th>\n",
       "      <th>AMOUNT</th>\n",
       "      <th>cluster</th>\n",
       "      <th>Account_No</th>\n",
       "    </tr>\n",
       "  </thead>\n",
       "  <tbody>\n",
       "    <tr>\n",
       "      <th>0</th>\n",
       "      <td>0.729389</td>\n",
       "      <td>-0.340374</td>\n",
       "      <td>1</td>\n",
       "      <td>409000611074'</td>\n",
       "    </tr>\n",
       "  </tbody>\n",
       "</table>\n",
       "</div>"
      ],
      "text/plain": [
       "   BALANCE_AMT    AMOUNT  cluster     Account_No\n",
       "0     0.729389 -0.340374        1  409000611074'"
      ]
     },
     "execution_count": 20,
     "metadata": {},
     "output_type": "execute_result"
    }
   ],
   "source": [
    "data.head(1)"
   ]
  },
  {
   "cell_type": "markdown",
   "metadata": {},
   "source": [
    "# Scores computing\n",
    "## Input: dataset data\n",
    "##  Output: df with scores and sub-scores variables\n"
   ]
  },
  {
   "cell_type": "markdown",
   "metadata": {},
   "source": [
    "### 1) Get cluster (profile) number for each client"
   ]
  },
  {
   "cell_type": "code",
   "execution_count": 21,
   "metadata": {},
   "outputs": [],
   "source": [
    "clients=list(df[\"Account_No\"].unique())"
   ]
  },
  {
   "cell_type": "code",
   "execution_count": null,
   "metadata": {},
   "outputs": [],
   "source": [
    "# for acc in clients:\n",
    "#     print(acc)\n",
    "#     print(data[data[\"Account_No\"]==acc][\"cluster\"].value_counts())"
   ]
  },
  {
   "cell_type": "code",
   "execution_count": 22,
   "metadata": {},
   "outputs": [],
   "source": [
    "#add the variable cluster_max to dataset data\n",
    "\n",
    "data['cluster_max']=0\n",
    "for acc in clients:\n",
    "    cond=data[\"Account_No\"]==acc\n",
    "    data['cluster_max']=data['cluster_max'].mask(cond, data[cond][\"cluster\"].value_counts().index[0])"
   ]
  },
  {
   "cell_type": "code",
   "execution_count": 23,
   "metadata": {},
   "outputs": [
    {
     "data": {
      "text/html": [
       "<div>\n",
       "<style scoped>\n",
       "    .dataframe tbody tr th:only-of-type {\n",
       "        vertical-align: middle;\n",
       "    }\n",
       "\n",
       "    .dataframe tbody tr th {\n",
       "        vertical-align: top;\n",
       "    }\n",
       "\n",
       "    .dataframe thead th {\n",
       "        text-align: right;\n",
       "    }\n",
       "</style>\n",
       "<table border=\"1\" class=\"dataframe\">\n",
       "  <thead>\n",
       "    <tr style=\"text-align: right;\">\n",
       "      <th></th>\n",
       "      <th>BALANCE_AMT</th>\n",
       "      <th>AMOUNT</th>\n",
       "      <th>cluster</th>\n",
       "      <th>Account_No</th>\n",
       "      <th>cluster_max</th>\n",
       "    </tr>\n",
       "  </thead>\n",
       "  <tbody>\n",
       "    <tr>\n",
       "      <th>0</th>\n",
       "      <td>0.729389</td>\n",
       "      <td>-0.340374</td>\n",
       "      <td>1</td>\n",
       "      <td>409000611074'</td>\n",
       "      <td>0</td>\n",
       "    </tr>\n",
       "  </tbody>\n",
       "</table>\n",
       "</div>"
      ],
      "text/plain": [
       "   BALANCE_AMT    AMOUNT  cluster     Account_No  cluster_max\n",
       "0     0.729389 -0.340374        1  409000611074'            0"
      ]
     },
     "execution_count": 23,
     "metadata": {},
     "output_type": "execute_result"
    }
   ],
   "source": [
    "data.head(1)"
   ]
  },
  {
   "cell_type": "code",
   "execution_count": 24,
   "metadata": {},
   "outputs": [
    {
     "data": {
      "text/html": [
       "<div>\n",
       "<style scoped>\n",
       "    .dataframe tbody tr th:only-of-type {\n",
       "        vertical-align: middle;\n",
       "    }\n",
       "\n",
       "    .dataframe tbody tr th {\n",
       "        vertical-align: top;\n",
       "    }\n",
       "\n",
       "    .dataframe thead th {\n",
       "        text-align: right;\n",
       "    }\n",
       "</style>\n",
       "<table border=\"1\" class=\"dataframe\">\n",
       "  <thead>\n",
       "    <tr style=\"text-align: right;\">\n",
       "      <th></th>\n",
       "      <th>profils</th>\n",
       "      <th>Balance_AMT_score</th>\n",
       "      <th>AMOUNT_score</th>\n",
       "    </tr>\n",
       "  </thead>\n",
       "  <tbody>\n",
       "    <tr>\n",
       "      <th>0</th>\n",
       "      <td>0</td>\n",
       "      <td>-0.031899</td>\n",
       "      <td>1.058027</td>\n",
       "    </tr>\n",
       "  </tbody>\n",
       "</table>\n",
       "</div>"
      ],
      "text/plain": [
       "   profils  Balance_AMT_score  AMOUNT_score\n",
       "0        0          -0.031899      1.058027"
      ]
     },
     "execution_count": 24,
     "metadata": {},
     "output_type": "execute_result"
    }
   ],
   "source": [
    "centroids_table.head(1)"
   ]
  },
  {
   "cell_type": "code",
   "execution_count": 30,
   "metadata": {},
   "outputs": [],
   "source": [
    "#add coordinates of centroids of cluster_max to dataset data:\n",
    "\n",
    "data['bal_centroid']=0\n",
    "data['amount_centroid']=0\n",
    "\n",
    "for i in range(len(centroids_table)):\n",
    "    \n",
    "    bal_centroid_0=centroids_table[\"Balance_AMT_score\"][i]\n",
    "    amount_centroid_0=centroids_table[\"AMOUNT_score\"][i]\n",
    "    cond=data[\"cluster_max\"]==i\n",
    "    data['bal_centroid']=data[\"bal_centroid\"].mask(cond,bal_centroid_0)\n",
    "    data['amount_centroid']=data[\"amount_centroid\"].mask(cond,amount_centroid_0)"
   ]
  },
  {
   "cell_type": "code",
   "execution_count": 33,
   "metadata": {},
   "outputs": [],
   "source": [
    "# data"
   ]
  },
  {
   "cell_type": "code",
   "execution_count": 34,
   "metadata": {},
   "outputs": [],
   "source": [
    "# centroids_table"
   ]
  },
  {
   "cell_type": "markdown",
   "metadata": {},
   "source": [
    "### 2) Use the centroids of cluster_max to compute distance between points and centroid"
   ]
  },
  {
   "cell_type": "code",
   "execution_count": 36,
   "metadata": {},
   "outputs": [
    {
     "data": {
      "text/html": [
       "<div>\n",
       "<style scoped>\n",
       "    .dataframe tbody tr th:only-of-type {\n",
       "        vertical-align: middle;\n",
       "    }\n",
       "\n",
       "    .dataframe tbody tr th {\n",
       "        vertical-align: top;\n",
       "    }\n",
       "\n",
       "    .dataframe thead th {\n",
       "        text-align: right;\n",
       "    }\n",
       "</style>\n",
       "<table border=\"1\" class=\"dataframe\">\n",
       "  <thead>\n",
       "    <tr style=\"text-align: right;\">\n",
       "      <th></th>\n",
       "      <th>BALANCE_AMT</th>\n",
       "      <th>AMOUNT</th>\n",
       "      <th>cluster</th>\n",
       "      <th>Account_No</th>\n",
       "      <th>cluster_max</th>\n",
       "      <th>bal_centroid</th>\n",
       "      <th>amount_centroid</th>\n",
       "    </tr>\n",
       "  </thead>\n",
       "  <tbody>\n",
       "    <tr>\n",
       "      <th>0</th>\n",
       "      <td>0.729389</td>\n",
       "      <td>-0.340374</td>\n",
       "      <td>1</td>\n",
       "      <td>409000611074'</td>\n",
       "      <td>0</td>\n",
       "      <td>-0.031899</td>\n",
       "      <td>1.058027</td>\n",
       "    </tr>\n",
       "  </tbody>\n",
       "</table>\n",
       "</div>"
      ],
      "text/plain": [
       "   BALANCE_AMT    AMOUNT  cluster     Account_No  cluster_max  bal_centroid  \\\n",
       "0     0.729389 -0.340374        1  409000611074'            0     -0.031899   \n",
       "\n",
       "   amount_centroid  \n",
       "0         1.058027  "
      ]
     },
     "execution_count": 36,
     "metadata": {},
     "output_type": "execute_result"
    }
   ],
   "source": [
    "data.head(1)"
   ]
  },
  {
   "cell_type": "code",
   "execution_count": 37,
   "metadata": {},
   "outputs": [],
   "source": [
    "data[\"balance_score\"]=np.abs(data[\"BALANCE_AMT\"]- data[\"bal_centroid\"])\n",
    "data[\"amount_score\"]=np.abs(data[\"AMOUNT\"]- data[\"amount_centroid\"])\n",
    "data[\"transaction_score\"]=data[\"amount_score\"]+data[\"balance_score\"]"
   ]
  },
  {
   "cell_type": "code",
   "execution_count": 38,
   "metadata": {},
   "outputs": [
    {
     "data": {
      "text/html": [
       "<div>\n",
       "<style scoped>\n",
       "    .dataframe tbody tr th:only-of-type {\n",
       "        vertical-align: middle;\n",
       "    }\n",
       "\n",
       "    .dataframe tbody tr th {\n",
       "        vertical-align: top;\n",
       "    }\n",
       "\n",
       "    .dataframe thead th {\n",
       "        text-align: right;\n",
       "    }\n",
       "</style>\n",
       "<table border=\"1\" class=\"dataframe\">\n",
       "  <thead>\n",
       "    <tr style=\"text-align: right;\">\n",
       "      <th></th>\n",
       "      <th>BALANCE_AMT</th>\n",
       "      <th>AMOUNT</th>\n",
       "      <th>cluster</th>\n",
       "      <th>Account_No</th>\n",
       "      <th>cluster_max</th>\n",
       "      <th>bal_centroid</th>\n",
       "      <th>amount_centroid</th>\n",
       "      <th>balance_score</th>\n",
       "      <th>amount_score</th>\n",
       "      <th>transaction_score</th>\n",
       "    </tr>\n",
       "  </thead>\n",
       "  <tbody>\n",
       "    <tr>\n",
       "      <th>0</th>\n",
       "      <td>0.729389</td>\n",
       "      <td>-0.340374</td>\n",
       "      <td>1</td>\n",
       "      <td>409000611074'</td>\n",
       "      <td>0</td>\n",
       "      <td>-0.031899</td>\n",
       "      <td>1.058027</td>\n",
       "      <td>0.761288</td>\n",
       "      <td>1.398401</td>\n",
       "      <td>2.159689</td>\n",
       "    </tr>\n",
       "  </tbody>\n",
       "</table>\n",
       "</div>"
      ],
      "text/plain": [
       "   BALANCE_AMT    AMOUNT  cluster     Account_No  cluster_max  bal_centroid  \\\n",
       "0     0.729389 -0.340374        1  409000611074'            0     -0.031899   \n",
       "\n",
       "   amount_centroid  balance_score  amount_score  transaction_score  \n",
       "0         1.058027       0.761288      1.398401           2.159689  "
      ]
     },
     "execution_count": 38,
     "metadata": {},
     "output_type": "execute_result"
    }
   ],
   "source": [
    "data.head(1)"
   ]
  },
  {
   "cell_type": "code",
   "execution_count": 39,
   "metadata": {},
   "outputs": [],
   "source": [
    "# Add the variable \"is_normal\" THAT takes 1 if the transaction is normal according to the clustering (its cluster is the cluster_max ) and takes 0 if not\n",
    "cond= data[\"cluster_max\"]== data[\"cluster\"]\n",
    "data[\"is_normal\"]=0\n",
    "data[\"is_normal\"]= data[\"is_normal\"].mask(cond,1)"
   ]
  },
  {
   "cell_type": "code",
   "execution_count": 40,
   "metadata": {},
   "outputs": [
    {
     "data": {
      "text/html": [
       "<div>\n",
       "<style scoped>\n",
       "    .dataframe tbody tr th:only-of-type {\n",
       "        vertical-align: middle;\n",
       "    }\n",
       "\n",
       "    .dataframe tbody tr th {\n",
       "        vertical-align: top;\n",
       "    }\n",
       "\n",
       "    .dataframe thead th {\n",
       "        text-align: right;\n",
       "    }\n",
       "</style>\n",
       "<table border=\"1\" class=\"dataframe\">\n",
       "  <thead>\n",
       "    <tr style=\"text-align: right;\">\n",
       "      <th></th>\n",
       "      <th>BALANCE_AMT</th>\n",
       "      <th>AMOUNT</th>\n",
       "      <th>cluster</th>\n",
       "      <th>Account_No</th>\n",
       "      <th>cluster_max</th>\n",
       "      <th>bal_centroid</th>\n",
       "      <th>amount_centroid</th>\n",
       "      <th>balance_score</th>\n",
       "      <th>amount_score</th>\n",
       "      <th>transaction_score</th>\n",
       "      <th>is_normal</th>\n",
       "    </tr>\n",
       "  </thead>\n",
       "  <tbody>\n",
       "    <tr>\n",
       "      <th>0</th>\n",
       "      <td>0.729389</td>\n",
       "      <td>-0.340374</td>\n",
       "      <td>1</td>\n",
       "      <td>409000611074'</td>\n",
       "      <td>0</td>\n",
       "      <td>-0.031899</td>\n",
       "      <td>1.058027</td>\n",
       "      <td>0.761288</td>\n",
       "      <td>1.398401</td>\n",
       "      <td>2.159689</td>\n",
       "      <td>0</td>\n",
       "    </tr>\n",
       "    <tr>\n",
       "      <th>1</th>\n",
       "      <td>0.728997</td>\n",
       "      <td>0.044054</td>\n",
       "      <td>1</td>\n",
       "      <td>409000611074'</td>\n",
       "      <td>0</td>\n",
       "      <td>-0.031899</td>\n",
       "      <td>1.058027</td>\n",
       "      <td>0.760896</td>\n",
       "      <td>1.013973</td>\n",
       "      <td>1.774869</td>\n",
       "      <td>0</td>\n",
       "    </tr>\n",
       "    <tr>\n",
       "      <th>2</th>\n",
       "      <td>0.727931</td>\n",
       "      <td>0.327924</td>\n",
       "      <td>0</td>\n",
       "      <td>409000611074'</td>\n",
       "      <td>0</td>\n",
       "      <td>-0.031899</td>\n",
       "      <td>1.058027</td>\n",
       "      <td>0.759829</td>\n",
       "      <td>0.730103</td>\n",
       "      <td>1.489932</td>\n",
       "      <td>1</td>\n",
       "    </tr>\n",
       "    <tr>\n",
       "      <th>3</th>\n",
       "      <td>0.731545</td>\n",
       "      <td>0.674389</td>\n",
       "      <td>0</td>\n",
       "      <td>409000611074'</td>\n",
       "      <td>0</td>\n",
       "      <td>-0.031899</td>\n",
       "      <td>1.058027</td>\n",
       "      <td>0.763444</td>\n",
       "      <td>0.383638</td>\n",
       "      <td>1.147082</td>\n",
       "      <td>1</td>\n",
       "    </tr>\n",
       "    <tr>\n",
       "      <th>4</th>\n",
       "      <td>0.729206</td>\n",
       "      <td>0.550817</td>\n",
       "      <td>0</td>\n",
       "      <td>409000611074'</td>\n",
       "      <td>0</td>\n",
       "      <td>-0.031899</td>\n",
       "      <td>1.058027</td>\n",
       "      <td>0.761105</td>\n",
       "      <td>0.507210</td>\n",
       "      <td>1.268315</td>\n",
       "      <td>1</td>\n",
       "    </tr>\n",
       "  </tbody>\n",
       "</table>\n",
       "</div>"
      ],
      "text/plain": [
       "   BALANCE_AMT    AMOUNT  cluster     Account_No  cluster_max  bal_centroid  \\\n",
       "0     0.729389 -0.340374        1  409000611074'            0     -0.031899   \n",
       "1     0.728997  0.044054        1  409000611074'            0     -0.031899   \n",
       "2     0.727931  0.327924        0  409000611074'            0     -0.031899   \n",
       "3     0.731545  0.674389        0  409000611074'            0     -0.031899   \n",
       "4     0.729206  0.550817        0  409000611074'            0     -0.031899   \n",
       "\n",
       "   amount_centroid  balance_score  amount_score  transaction_score  is_normal  \n",
       "0         1.058027       0.761288      1.398401           2.159689          0  \n",
       "1         1.058027       0.760896      1.013973           1.774869          0  \n",
       "2         1.058027       0.759829      0.730103           1.489932          1  \n",
       "3         1.058027       0.763444      0.383638           1.147082          1  \n",
       "4         1.058027       0.761105      0.507210           1.268315          1  "
      ]
     },
     "execution_count": 40,
     "metadata": {},
     "output_type": "execute_result"
    }
   ],
   "source": [
    "data.head()"
   ]
  },
  {
   "cell_type": "code",
   "execution_count": 45,
   "metadata": {},
   "outputs": [],
   "source": [
    "# data[data[\"Account_No\"]==clients[2]] [\"is_normal\"].value_counts()"
   ]
  },
  {
   "cell_type": "markdown",
   "metadata": {},
   "source": [
    "### 3) Add thresholds"
   ]
  },
  {
   "cell_type": "code",
   "execution_count": 52,
   "metadata": {},
   "outputs": [],
   "source": [
    "profiles=list(data[\"cluster_max\"].unique())"
   ]
  },
  {
   "cell_type": "code",
   "execution_count": 56,
   "metadata": {},
   "outputs": [
    {
     "data": {
      "image/png": "[encoded data removed]",
      "text/plain": [
       "<Figure size 1440x360 with 4 Axes>"
      ]
     },
     "metadata": {
      "needs_background": "light"
     },
     "output_type": "display_data"
    }
   ],
   "source": [
    "plt.figure(1 , figsize = (20 , 5))\n",
    "n = 0 \n",
    "for x in profiles:\n",
    "    n += 1\n",
    "    plt.subplot(2 , 2 , n)\n",
    "    plt.subplots_adjust(hspace = 0.5 , wspace = 0.3)\n",
    "    sns.distplot(data[data[\"cluster_max\"]==x][\"transaction_score\"])\n",
    "\n",
    "    plt.title( \"profile \" + str(x) )\n",
    "plt.show()\n",
    "\n"
   ]
  },
  {
   "cell_type": "code",
   "execution_count": 57,
   "metadata": {
    "scrolled": true
   },
   "outputs": [
    {
     "data": {
      "image/png": "[encoded data removed]",
      "text/plain": [
       "<Figure size 1440x360 with 4 Axes>"
      ]
     },
     "metadata": {
      "needs_background": "light"
     },
     "output_type": "display_data"
    }
   ],
   "source": [
    "plt.figure(1 , figsize = (20 , 5))\n",
    "n = 0 \n",
    "for x in profiles:\n",
    "    n += 1\n",
    "    plt.subplot(2 , 2 , n)\n",
    "    plt.subplots_adjust(hspace = 0.5 , wspace = 0.3)\n",
    "    sns.boxplot(x=data[data[\"cluster_max\"]==x][\"transaction_score\"])\n",
    "\n",
    "\n",
    "    plt.title( \"profile \" + str(x) )\n",
    "plt.show()\n"
   ]
  },
  {
   "cell_type": "code",
   "execution_count": 58,
   "metadata": {},
   "outputs": [],
   "source": [
    "# Point on the outliers in each profile\n",
    "q3=data[data[\"cluster_max\"]==x][\"transaction_score\"].quantile(0.75)\n"
   ]
  },
  {
   "cell_type": "code",
   "execution_count": 61,
   "metadata": {},
   "outputs": [],
   "source": [
    "# data[\"risk_is_medium\"]=0\n",
    "# q3=data[data[\"cluster_max\"]==x][\"transaction_score\"].quantile(0.75)\n",
    "# cond_q=data[data[\"cluster_max\"]==x][\"transaction_score\"]>q3\n",
    "# data[\"risk_is_medium\"]=data[\"risk_is_medium\"].mask(cond_q,1)"
   ]
  },
  {
   "cell_type": "code",
   "execution_count": 66,
   "metadata": {},
   "outputs": [],
   "source": [
    "data[\"q3_threshold\"]=0\n",
    "\n",
    "for x in profiles:\n",
    "    cond_q=data[\"cluster_max\"]==x\n",
    "    q3=data[data[\"cluster_max\"]==x][\"transaction_score\"].quantile(0.75)\n",
    "    data[\"q3_threshold\"]=data[\"q3_threshold\"].mask(cond_q,q3)"
   ]
  },
  {
   "cell_type": "code",
   "execution_count": 68,
   "metadata": {},
   "outputs": [
    {
     "data": {
      "text/plain": [
       "3.2787214964854896"
      ]
     },
     "execution_count": 68,
     "metadata": {},
     "output_type": "execute_result"
    }
   ],
   "source": [
    "np.max(data[data[\"cluster_max\"]==x][\"transaction_score\"])"
   ]
  },
  {
   "cell_type": "code",
   "execution_count": 69,
   "metadata": {},
   "outputs": [],
   "source": [
    "data[\"max_threshold\"]=0\n",
    "\n",
    "for x in profiles:\n",
    "    cond_max=data[\"cluster_max\"]==x\n",
    "    maxi=np.max(data[data[\"cluster_max\"]==x][\"transaction_score\"])\n",
    "    data[\"max_threshold\"]=data[\"max_threshold\"].mask(cond_max,maxi)"
   ]
  },
  {
   "cell_type": "code",
   "execution_count": 71,
   "metadata": {},
   "outputs": [
    {
     "data": {
      "text/html": [
       "<div>\n",
       "<style scoped>\n",
       "    .dataframe tbody tr th:only-of-type {\n",
       "        vertical-align: middle;\n",
       "    }\n",
       "\n",
       "    .dataframe tbody tr th {\n",
       "        vertical-align: top;\n",
       "    }\n",
       "\n",
       "    .dataframe thead th {\n",
       "        text-align: right;\n",
       "    }\n",
       "</style>\n",
       "<table border=\"1\" class=\"dataframe\">\n",
       "  <thead>\n",
       "    <tr style=\"text-align: right;\">\n",
       "      <th></th>\n",
       "      <th>BALANCE_AMT</th>\n",
       "      <th>AMOUNT</th>\n",
       "      <th>cluster</th>\n",
       "      <th>Account_No</th>\n",
       "      <th>cluster_max</th>\n",
       "      <th>bal_centroid</th>\n",
       "      <th>amount_centroid</th>\n",
       "      <th>balance_score</th>\n",
       "      <th>amount_score</th>\n",
       "      <th>transaction_score</th>\n",
       "      <th>is_normal</th>\n",
       "      <th>q3_threshold</th>\n",
       "      <th>max_threshold</th>\n",
       "    </tr>\n",
       "  </thead>\n",
       "  <tbody>\n",
       "    <tr>\n",
       "      <th>0</th>\n",
       "      <td>0.729389</td>\n",
       "      <td>-0.340374</td>\n",
       "      <td>1</td>\n",
       "      <td>409000611074'</td>\n",
       "      <td>0</td>\n",
       "      <td>-0.031899</td>\n",
       "      <td>1.058027</td>\n",
       "      <td>0.761288</td>\n",
       "      <td>1.398401</td>\n",
       "      <td>2.159689</td>\n",
       "      <td>0</td>\n",
       "      <td>1.535815</td>\n",
       "      <td>5.12666</td>\n",
       "    </tr>\n",
       "  </tbody>\n",
       "</table>\n",
       "</div>"
      ],
      "text/plain": [
       "   BALANCE_AMT    AMOUNT  cluster     Account_No  cluster_max  bal_centroid  \\\n",
       "0     0.729389 -0.340374        1  409000611074'            0     -0.031899   \n",
       "\n",
       "   amount_centroid  balance_score  amount_score  transaction_score  is_normal  \\\n",
       "0         1.058027       0.761288      1.398401           2.159689          0   \n",
       "\n",
       "   q3_threshold  max_threshold  \n",
       "0      1.535815        5.12666  "
      ]
     },
     "execution_count": 71,
     "metadata": {},
     "output_type": "execute_result"
    }
   ],
   "source": [
    "data.head(1)"
   ]
  },
  {
   "cell_type": "code",
   "execution_count": 72,
   "metadata": {},
   "outputs": [],
   "source": [
    "scores=pd.DataFrame()\n",
    "scores[[\"Account_No\",\"cluster_max\",\"balance_score\",\"amount_score\",\n",
    "        \"transaction_score\",\"is_normal\",\"q3_threshold\",\"max_threshold\"]]=data[[\"Account_No\",\"cluster_max\",\"balance_score\",\"amount_score\",\n",
    "                                                                                                                                         \"transaction_score\",\"is_normal\",\"q3_threshold\",\"max_threshold\"]]"
   ]
  },
  {
   "cell_type": "code",
   "execution_count": 73,
   "metadata": {},
   "outputs": [],
   "source": [
    "scores.to_csv ('transactions_scores_1.0.csv', index = None, header=True)\n"
   ]
  },
  {
   "cell_type": "code",
   "execution_count": 74,
   "metadata": {},
   "outputs": [
    {
     "data": {
      "text/plain": [
       "[\"409000611074'\",\n",
       " \"409000493201'\",\n",
       " \"409000425051'\",\n",
       " \"409000405747'\",\n",
       " \"409000438611'\",\n",
       " \"409000493210'\",\n",
       " \"409000438620'\",\n",
       " \"1196711'\",\n",
       " \"1196428'\",\n",
       " \"409000362497'\",\n",
       " 'A',\n",
       " 'B']"
      ]
     },
     "execution_count": 74,
     "metadata": {},
     "output_type": "execute_result"
    }
   ],
   "source": [
    "clients"
   ]
  }
 ],
 "metadata": {
  "kernelspec": {
   "display_name": "Python 3",
   "language": "python",
   "name": "python3"
  },
  "language_info": {
   "codemirror_mode": {
    "name": "ipython",
    "version": 3
   },
   "file_extension": ".py",
   "mimetype": "text/x-python",
   "name": "python",
   "nbconvert_exporter": "python",
   "pygments_lexer": "ipython3",
   "version": "3.7.1"
  }
 },
 "nbformat": 4,
 "nbformat_minor": 2
}
