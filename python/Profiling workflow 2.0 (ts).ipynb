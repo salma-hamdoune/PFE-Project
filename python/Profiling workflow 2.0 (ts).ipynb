{
 "cells": [
  {
   "cell_type": "code",
   "execution_count": 1,
   "metadata": {},
   "outputs": [],
   "source": [
    "import numpy as np \n",
    "import pandas as pd \n",
    "import matplotlib.pyplot as plt \n",
    "import seaborn as sns\n",
    "from sklearn.preprocessing import StandardScaler\n",
    "from sklearn.cluster import KMeans\n"
   ]
  },
  {
   "cell_type": "markdown",
   "metadata": {},
   "source": [
    "# Features engineering\n",
    "## Input: transactions dataset (name: transactions 2018)\n",
    "## Output: dataset with features for profiling normalized (name: data)"
   ]
  },
  {
   "cell_type": "code",
   "execution_count": 2,
   "metadata": {
    "scrolled": true
   },
   "outputs": [
    {
     "data": {
      "text/html": [
       "<div>\n",
       "<style scoped>\n",
       "    .dataframe tbody tr th:only-of-type {\n",
       "        vertical-align: middle;\n",
       "    }\n",
       "\n",
       "    .dataframe tbody tr th {\n",
       "        vertical-align: top;\n",
       "    }\n",
       "\n",
       "    .dataframe thead th {\n",
       "        text-align: right;\n",
       "    }\n",
       "</style>\n",
       "<table border=\"1\" class=\"dataframe\">\n",
       "  <thead>\n",
       "    <tr style=\"text-align: right;\">\n",
       "      <th></th>\n",
       "      <th>Account_No</th>\n",
       "      <th>DATE</th>\n",
       "      <th>index</th>\n",
       "      <th>year</th>\n",
       "      <th>month</th>\n",
       "      <th>day</th>\n",
       "      <th>withd_by_date</th>\n",
       "      <th>dep_by_date</th>\n",
       "      <th>Balance_updated</th>\n",
       "    </tr>\n",
       "  </thead>\n",
       "  <tbody>\n",
       "    <tr>\n",
       "      <th>0</th>\n",
       "      <td>1196428'</td>\n",
       "      <td>2018-01-01</td>\n",
       "      <td>15391</td>\n",
       "      <td>2018</td>\n",
       "      <td>1</td>\n",
       "      <td>1</td>\n",
       "      <td>35000000.00</td>\n",
       "      <td>35625026.51</td>\n",
       "      <td>-1.322909e+08</td>\n",
       "    </tr>\n",
       "    <tr>\n",
       "      <th>1</th>\n",
       "      <td>1196428'</td>\n",
       "      <td>2018-01-02</td>\n",
       "      <td>15410</td>\n",
       "      <td>2018</td>\n",
       "      <td>1</td>\n",
       "      <td>2</td>\n",
       "      <td>59400000.00</td>\n",
       "      <td>59475597.57</td>\n",
       "      <td>-1.322153e+08</td>\n",
       "    </tr>\n",
       "    <tr>\n",
       "      <th>2</th>\n",
       "      <td>1196428'</td>\n",
       "      <td>2018-01-03</td>\n",
       "      <td>15437</td>\n",
       "      <td>2018</td>\n",
       "      <td>1</td>\n",
       "      <td>3</td>\n",
       "      <td>43502723.23</td>\n",
       "      <td>53268900.67</td>\n",
       "      <td>-1.224491e+08</td>\n",
       "    </tr>\n",
       "    <tr>\n",
       "      <th>3</th>\n",
       "      <td>1196428'</td>\n",
       "      <td>2018-01-04</td>\n",
       "      <td>15463</td>\n",
       "      <td>2018</td>\n",
       "      <td>1</td>\n",
       "      <td>4</td>\n",
       "      <td>40300000.00</td>\n",
       "      <td>35910802.21</td>\n",
       "      <td>-1.268383e+08</td>\n",
       "    </tr>\n",
       "    <tr>\n",
       "      <th>4</th>\n",
       "      <td>1196428'</td>\n",
       "      <td>2018-01-05</td>\n",
       "      <td>15489</td>\n",
       "      <td>2018</td>\n",
       "      <td>1</td>\n",
       "      <td>5</td>\n",
       "      <td>44001591.01</td>\n",
       "      <td>44242137.04</td>\n",
       "      <td>-1.265977e+08</td>\n",
       "    </tr>\n",
       "  </tbody>\n",
       "</table>\n",
       "</div>"
      ],
      "text/plain": [
       "  Account_No        DATE  index  year  month  day  withd_by_date  dep_by_date  \\\n",
       "0   1196428'  2018-01-01  15391  2018      1    1    35000000.00  35625026.51   \n",
       "1   1196428'  2018-01-02  15410  2018      1    2    59400000.00  59475597.57   \n",
       "2   1196428'  2018-01-03  15437  2018      1    3    43502723.23  53268900.67   \n",
       "3   1196428'  2018-01-04  15463  2018      1    4    40300000.00  35910802.21   \n",
       "4   1196428'  2018-01-05  15489  2018      1    5    44001591.01  44242137.04   \n",
       "\n",
       "   Balance_updated  \n",
       "0    -1.322909e+08  \n",
       "1    -1.322153e+08  \n",
       "2    -1.224491e+08  \n",
       "3    -1.268383e+08  \n",
       "4    -1.265977e+08  "
      ]
     },
     "execution_count": 2,
     "metadata": {},
     "output_type": "execute_result"
    }
   ],
   "source": [
    "df=pd.read_csv(\"df18_ts.csv\")\n",
    "df.head()"
   ]
  },
  {
   "cell_type": "code",
   "execution_count": 3,
   "metadata": {},
   "outputs": [],
   "source": [
    "profiling_df=df.drop([\"index\",\"Account_No\",\"DATE\",\"year\",\"month\",\"day\",\"Balance_updated\"], axis=1)"
   ]
  },
  {
   "cell_type": "code",
   "execution_count": 6,
   "metadata": {},
   "outputs": [
    {
     "data": {
      "text/html": [
       "<div>\n",
       "<style scoped>\n",
       "    .dataframe tbody tr th:only-of-type {\n",
       "        vertical-align: middle;\n",
       "    }\n",
       "\n",
       "    .dataframe tbody tr th {\n",
       "        vertical-align: top;\n",
       "    }\n",
       "\n",
       "    .dataframe thead th {\n",
       "        text-align: right;\n",
       "    }\n",
       "</style>\n",
       "<table border=\"1\" class=\"dataframe\">\n",
       "  <thead>\n",
       "    <tr style=\"text-align: right;\">\n",
       "      <th></th>\n",
       "      <th>withd_by_date</th>\n",
       "      <th>dep_by_date</th>\n",
       "    </tr>\n",
       "  </thead>\n",
       "  <tbody>\n",
       "    <tr>\n",
       "      <th>0</th>\n",
       "      <td>35000000.00</td>\n",
       "      <td>35625026.51</td>\n",
       "    </tr>\n",
       "    <tr>\n",
       "      <th>1</th>\n",
       "      <td>59400000.00</td>\n",
       "      <td>59475597.57</td>\n",
       "    </tr>\n",
       "    <tr>\n",
       "      <th>2</th>\n",
       "      <td>43502723.23</td>\n",
       "      <td>53268900.67</td>\n",
       "    </tr>\n",
       "    <tr>\n",
       "      <th>3</th>\n",
       "      <td>40300000.00</td>\n",
       "      <td>35910802.21</td>\n",
       "    </tr>\n",
       "    <tr>\n",
       "      <th>4</th>\n",
       "      <td>44001591.01</td>\n",
       "      <td>44242137.04</td>\n",
       "    </tr>\n",
       "  </tbody>\n",
       "</table>\n",
       "</div>"
      ],
      "text/plain": [
       "   withd_by_date  dep_by_date\n",
       "0    35000000.00  35625026.51\n",
       "1    59400000.00  59475597.57\n",
       "2    43502723.23  53268900.67\n",
       "3    40300000.00  35910802.21\n",
       "4    44001591.01  44242137.04"
      ]
     },
     "execution_count": 6,
     "metadata": {},
     "output_type": "execute_result"
    }
   ],
   "source": [
    "profiling_df.head()"
   ]
  },
  {
   "cell_type": "code",
   "execution_count": 7,
   "metadata": {},
   "outputs": [
    {
     "data": {
      "text/plain": [
       "withd_by_date    6.008284\n",
       "dep_by_date      3.682312\n",
       "dtype: float64"
      ]
     },
     "execution_count": 7,
     "metadata": {},
     "output_type": "execute_result"
    }
   ],
   "source": [
    "profiling_df.skew()"
   ]
  },
  {
   "cell_type": "code",
   "execution_count": 8,
   "metadata": {},
   "outputs": [],
   "source": [
    "# profiling_df['withd_by_date']=np.log(profiling_df['withd_by_date']+1)\n",
    "# profiling_df['dep_by_date']=np.log(profiling_df['dep_by_date']+1)"
   ]
  },
  {
   "cell_type": "code",
   "execution_count": 9,
   "metadata": {},
   "outputs": [
    {
     "data": {
      "text/plain": [
       "withd_by_date    6.008284\n",
       "dep_by_date      3.682312\n",
       "dtype: float64"
      ]
     },
     "execution_count": 9,
     "metadata": {},
     "output_type": "execute_result"
    }
   ],
   "source": [
    "profiling_df.skew()"
   ]
  },
  {
   "cell_type": "code",
   "execution_count": 10,
   "metadata": {},
   "outputs": [],
   "source": [
    "#Standarize features values to apply clustering methods\n",
    "def df_clustering_std(df_clustering):\n",
    "    features=list(df_clustering.columns)\n",
    "    x = df_clustering.loc[:, features].values\n",
    "    #Standardizing the features\n",
    "    x = StandardScaler().fit_transform(x)\n",
    "    d=df_clustering\n",
    "    d[features] =x\n",
    "    return d"
   ]
  },
  {
   "cell_type": "code",
   "execution_count": 11,
   "metadata": {},
   "outputs": [],
   "source": [
    "data=df_clustering_std(profiling_df)"
   ]
  },
  {
   "cell_type": "code",
   "execution_count": 12,
   "metadata": {},
   "outputs": [
    {
     "data": {
      "text/html": [
       "<div>\n",
       "<style scoped>\n",
       "    .dataframe tbody tr th:only-of-type {\n",
       "        vertical-align: middle;\n",
       "    }\n",
       "\n",
       "    .dataframe tbody tr th {\n",
       "        vertical-align: top;\n",
       "    }\n",
       "\n",
       "    .dataframe thead th {\n",
       "        text-align: right;\n",
       "    }\n",
       "</style>\n",
       "<table border=\"1\" class=\"dataframe\">\n",
       "  <thead>\n",
       "    <tr style=\"text-align: right;\">\n",
       "      <th></th>\n",
       "      <th>withd_by_date</th>\n",
       "      <th>dep_by_date</th>\n",
       "    </tr>\n",
       "  </thead>\n",
       "  <tbody>\n",
       "    <tr>\n",
       "      <th>0</th>\n",
       "      <td>0.964484</td>\n",
       "      <td>1.099753</td>\n",
       "    </tr>\n",
       "    <tr>\n",
       "      <th>1</th>\n",
       "      <td>2.023054</td>\n",
       "      <td>2.233820</td>\n",
       "    </tr>\n",
       "    <tr>\n",
       "      <th>2</th>\n",
       "      <td>1.333366</td>\n",
       "      <td>1.938699</td>\n",
       "    </tr>\n",
       "    <tr>\n",
       "      <th>3</th>\n",
       "      <td>1.194419</td>\n",
       "      <td>1.113341</td>\n",
       "    </tr>\n",
       "    <tr>\n",
       "      <th>4</th>\n",
       "      <td>1.355009</td>\n",
       "      <td>1.509487</td>\n",
       "    </tr>\n",
       "  </tbody>\n",
       "</table>\n",
       "</div>"
      ],
      "text/plain": [
       "   withd_by_date  dep_by_date\n",
       "0       0.964484     1.099753\n",
       "1       2.023054     2.233820\n",
       "2       1.333366     1.938699\n",
       "3       1.194419     1.113341\n",
       "4       1.355009     1.509487"
      ]
     },
     "execution_count": 12,
     "metadata": {},
     "output_type": "execute_result"
    }
   ],
   "source": [
    "data.head()"
   ]
  },
  {
   "cell_type": "markdown",
   "metadata": {},
   "source": [
    "# Clustering model\n",
    "## Input: dataset data\n",
    "## Output:  number of clusters (k)\n",
    "## +  Centroids coordinates (centroids)\n",
    "## + Cluster of each point (labels)"
   ]
  },
  {
   "cell_type": "code",
   "execution_count": 13,
   "metadata": {},
   "outputs": [],
   "source": [
    "def plot_k(df_clustering_std):\n",
    "    features=list(df_clustering_std.columns)\n",
    "    X1 = df_clustering_std[features].iloc[: , :].values\n",
    "    inertia = []\n",
    "    for n in range(1 , 11):\n",
    "        algorithm = (KMeans(n_clusters = n ,init='k-means++', n_init = 10 ,max_iter=300, \n",
    "                            tol=0.0001,  random_state= 111  , algorithm='elkan') )\n",
    "        algorithm.fit(X1)\n",
    "        inertia.append(algorithm.inertia_)\n",
    "\n",
    "    #Selecting N Clusters based in Inertia (Squared Distance between Centroids and data points, should be less)\n",
    "    plt.figure(1 , figsize = (10 ,6))\n",
    "    plt.plot(np.arange(1 , 11) , inertia , 'o')\n",
    "    plt.plot(np.arange(1 , 11) , inertia , '-' , alpha = 0.5)\n",
    "    plt.xlabel('Number of Clusters') , plt.ylabel('Inertia')\n",
    "    plt.grid(b=True, which='major', color='#666666', linestyle='-')\n",
    "    return plt.show()"
   ]
  },
  {
   "cell_type": "code",
   "execution_count": 14,
   "metadata": {},
   "outputs": [
    {
     "data": {
      "image/png": "[encoded data removed]",
      "text/plain": [
       "<Figure size 720x432 with 1 Axes>"
      ]
     },
     "metadata": {
      "needs_background": "light"
     },
     "output_type": "display_data"
    }
   ],
   "source": [
    "plot_k(data)"
   ]
  },
  {
   "cell_type": "code",
   "execution_count": 15,
   "metadata": {},
   "outputs": [],
   "source": [
    "def kmeans(df_clustering_std,k):\n",
    "    features=list(df_clustering_std.columns)\n",
    "    algorithm = (KMeans(n_clusters = k ,init='k-means++', n_init = 10 ,max_iter=300, \n",
    "                            tol=0.0001,  random_state= 111  , algorithm='elkan') )\n",
    "    X1 = df_clustering_std[features].iloc[: , :].values\n",
    "    algorithm.fit(X1)\n",
    "    labels = algorithm.labels_\n",
    "    centroids = algorithm.cluster_centers_\n",
    "    labelsncentroids=[labels,centroids]\n",
    "    return labelsncentroids"
   ]
  },
  {
   "cell_type": "code",
   "execution_count": 16,
   "metadata": {},
   "outputs": [],
   "source": [
    "k=3\n",
    "labels=kmeans(data,3)[0]\n",
    "centroids=kmeans(data,3)[1]"
   ]
  },
  {
   "cell_type": "markdown",
   "metadata": {},
   "source": [
    "# Centroids table"
   ]
  },
  {
   "cell_type": "code",
   "execution_count": 17,
   "metadata": {},
   "outputs": [],
   "source": [
    "centroids_table=pd.DataFrame()\n",
    "centroids_table[\"profils\"]=list(range(0,k))"
   ]
  },
  {
   "cell_type": "code",
   "execution_count": 18,
   "metadata": {},
   "outputs": [],
   "source": [
    "# data.head()"
   ]
  },
  {
   "cell_type": "code",
   "execution_count": 19,
   "metadata": {},
   "outputs": [],
   "source": [
    "# list(centroids)[0][2]"
   ]
  },
  {
   "cell_type": "code",
   "execution_count": 20,
   "metadata": {},
   "outputs": [
    {
     "data": {
      "text/html": [
       "<div>\n",
       "<style scoped>\n",
       "    .dataframe tbody tr th:only-of-type {\n",
       "        vertical-align: middle;\n",
       "    }\n",
       "\n",
       "    .dataframe tbody tr th {\n",
       "        vertical-align: top;\n",
       "    }\n",
       "\n",
       "    .dataframe thead th {\n",
       "        text-align: right;\n",
       "    }\n",
       "</style>\n",
       "<table border=\"1\" class=\"dataframe\">\n",
       "  <thead>\n",
       "    <tr style=\"text-align: right;\">\n",
       "      <th></th>\n",
       "      <th>withd_by_date</th>\n",
       "      <th>dep_by_date</th>\n",
       "    </tr>\n",
       "  </thead>\n",
       "  <tbody>\n",
       "    <tr>\n",
       "      <th>0</th>\n",
       "      <td>0.964484</td>\n",
       "      <td>1.099753</td>\n",
       "    </tr>\n",
       "  </tbody>\n",
       "</table>\n",
       "</div>"
      ],
      "text/plain": [
       "   withd_by_date  dep_by_date\n",
       "0       0.964484     1.099753"
      ]
     },
     "execution_count": 20,
     "metadata": {},
     "output_type": "execute_result"
    }
   ],
   "source": [
    "# list(centroids)\n",
    "data.head(1)"
   ]
  },
  {
   "cell_type": "code",
   "execution_count": 21,
   "metadata": {},
   "outputs": [],
   "source": [
    "# ADD Centroids coordinates for each cluster (profile)\n",
    "a=[]\n",
    "for i in range(len(list(centroids))):\n",
    "    a.append(list(centroids)[i][0])\n",
    "centroids_table[\"withd_by_date\"]=a\n",
    "\n",
    "b=[]\n",
    "for i in range(len(list(centroids))):\n",
    "    b.append(list(centroids)[i][1])\n",
    "centroids_table[\"dep_by_date\"]=b\n",
    "\n"
   ]
  },
  {
   "cell_type": "code",
   "execution_count": 22,
   "metadata": {},
   "outputs": [
    {
     "data": {
      "text/html": [
       "<div>\n",
       "<style scoped>\n",
       "    .dataframe tbody tr th:only-of-type {\n",
       "        vertical-align: middle;\n",
       "    }\n",
       "\n",
       "    .dataframe tbody tr th {\n",
       "        vertical-align: top;\n",
       "    }\n",
       "\n",
       "    .dataframe thead th {\n",
       "        text-align: right;\n",
       "    }\n",
       "</style>\n",
       "<table border=\"1\" class=\"dataframe\">\n",
       "  <thead>\n",
       "    <tr style=\"text-align: right;\">\n",
       "      <th></th>\n",
       "      <th>profils</th>\n",
       "      <th>withd_by_date</th>\n",
       "      <th>dep_by_date</th>\n",
       "    </tr>\n",
       "  </thead>\n",
       "  <tbody>\n",
       "    <tr>\n",
       "      <th>0</th>\n",
       "      <td>0</td>\n",
       "      <td>1.525772</td>\n",
       "      <td>1.751232</td>\n",
       "    </tr>\n",
       "    <tr>\n",
       "      <th>1</th>\n",
       "      <td>1</td>\n",
       "      <td>-0.351490</td>\n",
       "      <td>-0.382104</td>\n",
       "    </tr>\n",
       "    <tr>\n",
       "      <th>2</th>\n",
       "      <td>2</td>\n",
       "      <td>17.149945</td>\n",
       "      <td>-0.286601</td>\n",
       "    </tr>\n",
       "  </tbody>\n",
       "</table>\n",
       "</div>"
      ],
      "text/plain": [
       "   profils  withd_by_date  dep_by_date\n",
       "0        0       1.525772     1.751232\n",
       "1        1      -0.351490    -0.382104\n",
       "2        2      17.149945    -0.286601"
      ]
     },
     "execution_count": 22,
     "metadata": {},
     "output_type": "execute_result"
    }
   ],
   "source": [
    "centroids_table"
   ]
  },
  {
   "cell_type": "code",
   "execution_count": 23,
   "metadata": {},
   "outputs": [
    {
     "data": {
      "text/plain": [
       "1.5257717914427606"
      ]
     },
     "execution_count": 23,
     "metadata": {},
     "output_type": "execute_result"
    }
   ],
   "source": [
    "list(centroids)[0][0]"
   ]
  },
  {
   "cell_type": "code",
   "execution_count": 24,
   "metadata": {},
   "outputs": [],
   "source": [
    "# add cluster number to each point in data and df\n",
    "data[\"cluster\"]=labels\n",
    "df[\"cluster\"]=labels"
   ]
  },
  {
   "cell_type": "code",
   "execution_count": 25,
   "metadata": {},
   "outputs": [],
   "source": [
    "data[\"Account_No\"]=df[\"Account_No\"]"
   ]
  },
  {
   "cell_type": "code",
   "execution_count": 26,
   "metadata": {},
   "outputs": [
    {
     "data": {
      "text/html": [
       "<div>\n",
       "<style scoped>\n",
       "    .dataframe tbody tr th:only-of-type {\n",
       "        vertical-align: middle;\n",
       "    }\n",
       "\n",
       "    .dataframe tbody tr th {\n",
       "        vertical-align: top;\n",
       "    }\n",
       "\n",
       "    .dataframe thead th {\n",
       "        text-align: right;\n",
       "    }\n",
       "</style>\n",
       "<table border=\"1\" class=\"dataframe\">\n",
       "  <thead>\n",
       "    <tr style=\"text-align: right;\">\n",
       "      <th></th>\n",
       "      <th>withd_by_date</th>\n",
       "      <th>dep_by_date</th>\n",
       "      <th>cluster</th>\n",
       "      <th>Account_No</th>\n",
       "    </tr>\n",
       "  </thead>\n",
       "  <tbody>\n",
       "    <tr>\n",
       "      <th>0</th>\n",
       "      <td>0.964484</td>\n",
       "      <td>1.099753</td>\n",
       "      <td>0</td>\n",
       "      <td>1196428'</td>\n",
       "    </tr>\n",
       "  </tbody>\n",
       "</table>\n",
       "</div>"
      ],
      "text/plain": [
       "   withd_by_date  dep_by_date  cluster Account_No\n",
       "0       0.964484     1.099753        0   1196428'"
      ]
     },
     "execution_count": 26,
     "metadata": {},
     "output_type": "execute_result"
    }
   ],
   "source": [
    "data.head(1)"
   ]
  },
  {
   "cell_type": "code",
   "execution_count": 27,
   "metadata": {},
   "outputs": [
    {
     "data": {
      "text/plain": [
       "array([\"1196428'\", \"1196711'\", \"409000362497'\", \"409000405747'\",\n",
       "       \"409000425051'\", \"409000438611'\", \"409000438620'\", \"409000493201'\",\n",
       "       \"409000493210'\", \"409000611074'\", 'A', 'B'], dtype=object)"
      ]
     },
     "execution_count": 27,
     "metadata": {},
     "output_type": "execute_result"
    }
   ],
   "source": [
    "df[\"Account_No\"].unique()"
   ]
  },
  {
   "cell_type": "code",
   "execution_count": 28,
   "metadata": {},
   "outputs": [
    {
     "data": {
      "text/plain": [
       "1    73\n",
       "Name: cluster, dtype: int64"
      ]
     },
     "execution_count": 28,
     "metadata": {},
     "output_type": "execute_result"
    }
   ],
   "source": [
    "df[df[\"Account_No\"]== 'A'][\"cluster\"].value_counts()"
   ]
  },
  {
   "cell_type": "markdown",
   "metadata": {},
   "source": [
    "# Scores computing\n",
    "## Input: dataset data\n",
    "##  Output: df with scores and sub-scores variables\n"
   ]
  },
  {
   "cell_type": "markdown",
   "metadata": {},
   "source": [
    "### 1) Get cluster (profile) number for each client"
   ]
  },
  {
   "cell_type": "code",
   "execution_count": 29,
   "metadata": {},
   "outputs": [],
   "source": [
    "clients=list(df[\"Account_No\"].unique())"
   ]
  },
  {
   "cell_type": "code",
   "execution_count": 30,
   "metadata": {},
   "outputs": [],
   "source": [
    "# for acc in clients:\n",
    "#     print(acc)\n",
    "#     print(data[data[\"Account_No\"]==acc][\"cluster\"].value_counts())"
   ]
  },
  {
   "cell_type": "code",
   "execution_count": 31,
   "metadata": {},
   "outputs": [],
   "source": [
    "#add the variable cluster_max to dataset data\n",
    "\n",
    "data['cluster_max']=0\n",
    "for acc in clients:\n",
    "    cond=data[\"Account_No\"]==acc\n",
    "    data['cluster_max']=data['cluster_max'].mask(cond, data[cond][\"cluster\"].value_counts().index[0])"
   ]
  },
  {
   "cell_type": "code",
   "execution_count": 32,
   "metadata": {},
   "outputs": [
    {
     "data": {
      "text/html": [
       "<div>\n",
       "<style scoped>\n",
       "    .dataframe tbody tr th:only-of-type {\n",
       "        vertical-align: middle;\n",
       "    }\n",
       "\n",
       "    .dataframe tbody tr th {\n",
       "        vertical-align: top;\n",
       "    }\n",
       "\n",
       "    .dataframe thead th {\n",
       "        text-align: right;\n",
       "    }\n",
       "</style>\n",
       "<table border=\"1\" class=\"dataframe\">\n",
       "  <thead>\n",
       "    <tr style=\"text-align: right;\">\n",
       "      <th></th>\n",
       "      <th>withd_by_date</th>\n",
       "      <th>dep_by_date</th>\n",
       "      <th>cluster</th>\n",
       "      <th>Account_No</th>\n",
       "      <th>cluster_max</th>\n",
       "    </tr>\n",
       "  </thead>\n",
       "  <tbody>\n",
       "    <tr>\n",
       "      <th>0</th>\n",
       "      <td>0.964484</td>\n",
       "      <td>1.099753</td>\n",
       "      <td>0</td>\n",
       "      <td>1196428'</td>\n",
       "      <td>0</td>\n",
       "    </tr>\n",
       "  </tbody>\n",
       "</table>\n",
       "</div>"
      ],
      "text/plain": [
       "   withd_by_date  dep_by_date  cluster Account_No  cluster_max\n",
       "0       0.964484     1.099753        0   1196428'            0"
      ]
     },
     "execution_count": 32,
     "metadata": {},
     "output_type": "execute_result"
    }
   ],
   "source": [
    "data.head(1)"
   ]
  },
  {
   "cell_type": "code",
   "execution_count": 33,
   "metadata": {},
   "outputs": [
    {
     "data": {
      "text/html": [
       "<div>\n",
       "<style scoped>\n",
       "    .dataframe tbody tr th:only-of-type {\n",
       "        vertical-align: middle;\n",
       "    }\n",
       "\n",
       "    .dataframe tbody tr th {\n",
       "        vertical-align: top;\n",
       "    }\n",
       "\n",
       "    .dataframe thead th {\n",
       "        text-align: right;\n",
       "    }\n",
       "</style>\n",
       "<table border=\"1\" class=\"dataframe\">\n",
       "  <thead>\n",
       "    <tr style=\"text-align: right;\">\n",
       "      <th></th>\n",
       "      <th>profils</th>\n",
       "      <th>withd_by_date</th>\n",
       "      <th>dep_by_date</th>\n",
       "    </tr>\n",
       "  </thead>\n",
       "  <tbody>\n",
       "    <tr>\n",
       "      <th>0</th>\n",
       "      <td>0</td>\n",
       "      <td>1.525772</td>\n",
       "      <td>1.751232</td>\n",
       "    </tr>\n",
       "  </tbody>\n",
       "</table>\n",
       "</div>"
      ],
      "text/plain": [
       "   profils  withd_by_date  dep_by_date\n",
       "0        0       1.525772     1.751232"
      ]
     },
     "execution_count": 33,
     "metadata": {},
     "output_type": "execute_result"
    }
   ],
   "source": [
    "centroids_table.head(1)"
   ]
  },
  {
   "cell_type": "code",
   "execution_count": 34,
   "metadata": {},
   "outputs": [],
   "source": [
    "#add coordinates of centroids of cluster_max to dataset data:\n",
    "\n",
    "# data['cluster_max']=0\n",
    "data[\"Withdrawal_centroid\"]=0\n",
    "data[\"Deposit_centroid\"]=0\n",
    "\n",
    "\n",
    "\n",
    "for i in range(len(centroids_table)):\n",
    "    \n",
    "    withd_by_date_0=centroids_table[\"withd_by_date\"][i]\n",
    "    dep_by_date_0=centroids_table[\"dep_by_date\"][i]\n",
    "#     month_centroid_0=centroids_table[\"month_score\"][i]\n",
    "#     day_centroid_0=centroids_table[\"day_score\"][i]\n",
    "#     dayofweek_centroid_0=centroids_table[\"dayofweek_score\"][i]\n",
    "#     quarter_centroid_0=centroids_table[\"quarter_score\"][i]\n",
    "    \n",
    "    cond=data[\"cluster_max\"]==i\n",
    "    \n",
    "    data['Withdrawal_centroid']=data[\"Withdrawal_centroid\"].mask(cond,withd_by_date_0)\n",
    "    data['Deposit_centroid']=data[\"Deposit_centroid\"].mask(cond,dep_by_date_0)\n",
    "#     data['month_centroid']=data[\"month_centroid\"].mask(cond,month_centroid_0)\n",
    "#     data['day_centroid']=data[\"day_centroid\"].mask(cond,day_centroid_0)\n",
    "#     data['dayofweek_centroid']=data[\"dayofweek_centroid\"].mask(cond,dayofweek_centroid_0)\n",
    "#     data['quarter_centroid']=data[\"quarter_centroid\"].mask(cond,quarter_centroid_0)\n"
   ]
  },
  {
   "cell_type": "code",
   "execution_count": 35,
   "metadata": {},
   "outputs": [
    {
     "data": {
      "text/html": [
       "<div>\n",
       "<style scoped>\n",
       "    .dataframe tbody tr th:only-of-type {\n",
       "        vertical-align: middle;\n",
       "    }\n",
       "\n",
       "    .dataframe tbody tr th {\n",
       "        vertical-align: top;\n",
       "    }\n",
       "\n",
       "    .dataframe thead th {\n",
       "        text-align: right;\n",
       "    }\n",
       "</style>\n",
       "<table border=\"1\" class=\"dataframe\">\n",
       "  <thead>\n",
       "    <tr style=\"text-align: right;\">\n",
       "      <th></th>\n",
       "      <th>withd_by_date</th>\n",
       "      <th>dep_by_date</th>\n",
       "      <th>cluster</th>\n",
       "      <th>Account_No</th>\n",
       "      <th>cluster_max</th>\n",
       "      <th>Withdrawal_centroid</th>\n",
       "      <th>Deposit_centroid</th>\n",
       "    </tr>\n",
       "  </thead>\n",
       "  <tbody>\n",
       "    <tr>\n",
       "      <th>0</th>\n",
       "      <td>0.964484</td>\n",
       "      <td>1.099753</td>\n",
       "      <td>0</td>\n",
       "      <td>1196428'</td>\n",
       "      <td>0</td>\n",
       "      <td>1.525772</td>\n",
       "      <td>1.751232</td>\n",
       "    </tr>\n",
       "    <tr>\n",
       "      <th>1</th>\n",
       "      <td>2.023054</td>\n",
       "      <td>2.233820</td>\n",
       "      <td>0</td>\n",
       "      <td>1196428'</td>\n",
       "      <td>0</td>\n",
       "      <td>1.525772</td>\n",
       "      <td>1.751232</td>\n",
       "    </tr>\n",
       "    <tr>\n",
       "      <th>2</th>\n",
       "      <td>1.333366</td>\n",
       "      <td>1.938699</td>\n",
       "      <td>0</td>\n",
       "      <td>1196428'</td>\n",
       "      <td>0</td>\n",
       "      <td>1.525772</td>\n",
       "      <td>1.751232</td>\n",
       "    </tr>\n",
       "    <tr>\n",
       "      <th>3</th>\n",
       "      <td>1.194419</td>\n",
       "      <td>1.113341</td>\n",
       "      <td>0</td>\n",
       "      <td>1196428'</td>\n",
       "      <td>0</td>\n",
       "      <td>1.525772</td>\n",
       "      <td>1.751232</td>\n",
       "    </tr>\n",
       "    <tr>\n",
       "      <th>4</th>\n",
       "      <td>1.355009</td>\n",
       "      <td>1.509487</td>\n",
       "      <td>0</td>\n",
       "      <td>1196428'</td>\n",
       "      <td>0</td>\n",
       "      <td>1.525772</td>\n",
       "      <td>1.751232</td>\n",
       "    </tr>\n",
       "  </tbody>\n",
       "</table>\n",
       "</div>"
      ],
      "text/plain": [
       "   withd_by_date  dep_by_date  cluster Account_No  cluster_max  \\\n",
       "0       0.964484     1.099753        0   1196428'            0   \n",
       "1       2.023054     2.233820        0   1196428'            0   \n",
       "2       1.333366     1.938699        0   1196428'            0   \n",
       "3       1.194419     1.113341        0   1196428'            0   \n",
       "4       1.355009     1.509487        0   1196428'            0   \n",
       "\n",
       "   Withdrawal_centroid  Deposit_centroid  \n",
       "0             1.525772          1.751232  \n",
       "1             1.525772          1.751232  \n",
       "2             1.525772          1.751232  \n",
       "3             1.525772          1.751232  \n",
       "4             1.525772          1.751232  "
      ]
     },
     "execution_count": 35,
     "metadata": {},
     "output_type": "execute_result"
    }
   ],
   "source": [
    "data.head()"
   ]
  },
  {
   "cell_type": "code",
   "execution_count": 36,
   "metadata": {},
   "outputs": [],
   "source": [
    "# centroids_table"
   ]
  },
  {
   "cell_type": "markdown",
   "metadata": {},
   "source": [
    "### 2) Use the centroids of cluster_max to compute distance between points and centroid"
   ]
  },
  {
   "cell_type": "code",
   "execution_count": 37,
   "metadata": {},
   "outputs": [
    {
     "data": {
      "text/html": [
       "<div>\n",
       "<style scoped>\n",
       "    .dataframe tbody tr th:only-of-type {\n",
       "        vertical-align: middle;\n",
       "    }\n",
       "\n",
       "    .dataframe tbody tr th {\n",
       "        vertical-align: top;\n",
       "    }\n",
       "\n",
       "    .dataframe thead th {\n",
       "        text-align: right;\n",
       "    }\n",
       "</style>\n",
       "<table border=\"1\" class=\"dataframe\">\n",
       "  <thead>\n",
       "    <tr style=\"text-align: right;\">\n",
       "      <th></th>\n",
       "      <th>withd_by_date</th>\n",
       "      <th>dep_by_date</th>\n",
       "      <th>cluster</th>\n",
       "      <th>Account_No</th>\n",
       "      <th>cluster_max</th>\n",
       "      <th>Withdrawal_centroid</th>\n",
       "      <th>Deposit_centroid</th>\n",
       "    </tr>\n",
       "  </thead>\n",
       "  <tbody>\n",
       "    <tr>\n",
       "      <th>0</th>\n",
       "      <td>0.964484</td>\n",
       "      <td>1.099753</td>\n",
       "      <td>0</td>\n",
       "      <td>1196428'</td>\n",
       "      <td>0</td>\n",
       "      <td>1.525772</td>\n",
       "      <td>1.751232</td>\n",
       "    </tr>\n",
       "  </tbody>\n",
       "</table>\n",
       "</div>"
      ],
      "text/plain": [
       "   withd_by_date  dep_by_date  cluster Account_No  cluster_max  \\\n",
       "0       0.964484     1.099753        0   1196428'            0   \n",
       "\n",
       "   Withdrawal_centroid  Deposit_centroid  \n",
       "0             1.525772          1.751232  "
      ]
     },
     "execution_count": 37,
     "metadata": {},
     "output_type": "execute_result"
    }
   ],
   "source": [
    "data.head(1)"
   ]
  },
  {
   "cell_type": "code",
   "execution_count": 38,
   "metadata": {},
   "outputs": [],
   "source": [
    "data[\"withdrawal_score\"]=(data[\"withd_by_date\"]-data[\"Withdrawal_centroid\"])**2\n",
    "data[\"deposit_score\"]=((data[\"dep_by_date\"]- data[\"Deposit_centroid\"]))**2\n",
    "# data[\"month_score\"]=np.abs(data[\"month\"]- data[\"month_centroid\"])\n",
    "# data[\"day_score\"]=np.abs(data[\"day\"]- data[\"day_centroid\"])\n",
    "# data[\"dayofweek_score\"]=np.abs(data[\"dayofweek\"]- data[\"dayofweek_centroid\"])\n",
    "# data[\"quarter_score\"]=np.abs(data[\"quarter\"]- data[\"quarter_centroid\"])\n",
    "\n",
    "data[\"transaction_score\"]=np.sqrt(data[\"withdrawal_score\"]+data[\"deposit_score\"])\n",
    "# +data[\"month_score\"]+data[\"day_score\"]+data[\"dayofweek_score\"]+data[\"quarter_score\"]"
   ]
  },
  {
   "cell_type": "code",
   "execution_count": 39,
   "metadata": {},
   "outputs": [
    {
     "data": {
      "text/html": [
       "<div>\n",
       "<style scoped>\n",
       "    .dataframe tbody tr th:only-of-type {\n",
       "        vertical-align: middle;\n",
       "    }\n",
       "\n",
       "    .dataframe tbody tr th {\n",
       "        vertical-align: top;\n",
       "    }\n",
       "\n",
       "    .dataframe thead th {\n",
       "        text-align: right;\n",
       "    }\n",
       "</style>\n",
       "<table border=\"1\" class=\"dataframe\">\n",
       "  <thead>\n",
       "    <tr style=\"text-align: right;\">\n",
       "      <th></th>\n",
       "      <th>withd_by_date</th>\n",
       "      <th>dep_by_date</th>\n",
       "      <th>cluster</th>\n",
       "      <th>Account_No</th>\n",
       "      <th>cluster_max</th>\n",
       "      <th>Withdrawal_centroid</th>\n",
       "      <th>Deposit_centroid</th>\n",
       "      <th>withdrawal_score</th>\n",
       "      <th>deposit_score</th>\n",
       "      <th>transaction_score</th>\n",
       "    </tr>\n",
       "  </thead>\n",
       "  <tbody>\n",
       "    <tr>\n",
       "      <th>0</th>\n",
       "      <td>0.964484</td>\n",
       "      <td>1.099753</td>\n",
       "      <td>0</td>\n",
       "      <td>1196428'</td>\n",
       "      <td>0</td>\n",
       "      <td>1.525772</td>\n",
       "      <td>1.751232</td>\n",
       "      <td>0.315044</td>\n",
       "      <td>0.424425</td>\n",
       "      <td>0.859924</td>\n",
       "    </tr>\n",
       "  </tbody>\n",
       "</table>\n",
       "</div>"
      ],
      "text/plain": [
       "   withd_by_date  dep_by_date  cluster Account_No  cluster_max  \\\n",
       "0       0.964484     1.099753        0   1196428'            0   \n",
       "\n",
       "   Withdrawal_centroid  Deposit_centroid  withdrawal_score  deposit_score  \\\n",
       "0             1.525772          1.751232          0.315044       0.424425   \n",
       "\n",
       "   transaction_score  \n",
       "0           0.859924  "
      ]
     },
     "execution_count": 39,
     "metadata": {},
     "output_type": "execute_result"
    }
   ],
   "source": [
    "data.head(1)"
   ]
  },
  {
   "cell_type": "code",
   "execution_count": 40,
   "metadata": {},
   "outputs": [],
   "source": [
    "# Add the variable \"is_normal\" THAT takes 1 if the transaction is normal according to the clustering (its cluster is the cluster_max ) and takes 0 if not\n",
    "cond= data[\"cluster_max\"]== data[\"cluster\"]\n",
    "data[\"is_normal\"]=0\n",
    "data[\"is_normal\"]= data[\"is_normal\"].mask(cond,1)"
   ]
  },
  {
   "cell_type": "code",
   "execution_count": 41,
   "metadata": {},
   "outputs": [
    {
     "data": {
      "text/html": [
       "<div>\n",
       "<style scoped>\n",
       "    .dataframe tbody tr th:only-of-type {\n",
       "        vertical-align: middle;\n",
       "    }\n",
       "\n",
       "    .dataframe tbody tr th {\n",
       "        vertical-align: top;\n",
       "    }\n",
       "\n",
       "    .dataframe thead th {\n",
       "        text-align: right;\n",
       "    }\n",
       "</style>\n",
       "<table border=\"1\" class=\"dataframe\">\n",
       "  <thead>\n",
       "    <tr style=\"text-align: right;\">\n",
       "      <th></th>\n",
       "      <th>withd_by_date</th>\n",
       "      <th>dep_by_date</th>\n",
       "      <th>cluster</th>\n",
       "      <th>Account_No</th>\n",
       "      <th>cluster_max</th>\n",
       "      <th>Withdrawal_centroid</th>\n",
       "      <th>Deposit_centroid</th>\n",
       "      <th>withdrawal_score</th>\n",
       "      <th>deposit_score</th>\n",
       "      <th>transaction_score</th>\n",
       "      <th>is_normal</th>\n",
       "    </tr>\n",
       "  </thead>\n",
       "  <tbody>\n",
       "    <tr>\n",
       "      <th>0</th>\n",
       "      <td>0.964484</td>\n",
       "      <td>1.099753</td>\n",
       "      <td>0</td>\n",
       "      <td>1196428'</td>\n",
       "      <td>0</td>\n",
       "      <td>1.525772</td>\n",
       "      <td>1.751232</td>\n",
       "      <td>0.315044</td>\n",
       "      <td>0.424425</td>\n",
       "      <td>0.859924</td>\n",
       "      <td>1</td>\n",
       "    </tr>\n",
       "    <tr>\n",
       "      <th>1</th>\n",
       "      <td>2.023054</td>\n",
       "      <td>2.233820</td>\n",
       "      <td>0</td>\n",
       "      <td>1196428'</td>\n",
       "      <td>0</td>\n",
       "      <td>1.525772</td>\n",
       "      <td>1.751232</td>\n",
       "      <td>0.247289</td>\n",
       "      <td>0.232891</td>\n",
       "      <td>0.692950</td>\n",
       "      <td>1</td>\n",
       "    </tr>\n",
       "    <tr>\n",
       "      <th>2</th>\n",
       "      <td>1.333366</td>\n",
       "      <td>1.938699</td>\n",
       "      <td>0</td>\n",
       "      <td>1196428'</td>\n",
       "      <td>0</td>\n",
       "      <td>1.525772</td>\n",
       "      <td>1.751232</td>\n",
       "      <td>0.037020</td>\n",
       "      <td>0.035144</td>\n",
       "      <td>0.268633</td>\n",
       "      <td>1</td>\n",
       "    </tr>\n",
       "    <tr>\n",
       "      <th>3</th>\n",
       "      <td>1.194419</td>\n",
       "      <td>1.113341</td>\n",
       "      <td>0</td>\n",
       "      <td>1196428'</td>\n",
       "      <td>0</td>\n",
       "      <td>1.525772</td>\n",
       "      <td>1.751232</td>\n",
       "      <td>0.109795</td>\n",
       "      <td>0.406905</td>\n",
       "      <td>0.718818</td>\n",
       "      <td>1</td>\n",
       "    </tr>\n",
       "    <tr>\n",
       "      <th>4</th>\n",
       "      <td>1.355009</td>\n",
       "      <td>1.509487</td>\n",
       "      <td>0</td>\n",
       "      <td>1196428'</td>\n",
       "      <td>0</td>\n",
       "      <td>1.525772</td>\n",
       "      <td>1.751232</td>\n",
       "      <td>0.029160</td>\n",
       "      <td>0.058441</td>\n",
       "      <td>0.295975</td>\n",
       "      <td>1</td>\n",
       "    </tr>\n",
       "  </tbody>\n",
       "</table>\n",
       "</div>"
      ],
      "text/plain": [
       "   withd_by_date  dep_by_date  cluster Account_No  cluster_max  \\\n",
       "0       0.964484     1.099753        0   1196428'            0   \n",
       "1       2.023054     2.233820        0   1196428'            0   \n",
       "2       1.333366     1.938699        0   1196428'            0   \n",
       "3       1.194419     1.113341        0   1196428'            0   \n",
       "4       1.355009     1.509487        0   1196428'            0   \n",
       "\n",
       "   Withdrawal_centroid  Deposit_centroid  withdrawal_score  deposit_score  \\\n",
       "0             1.525772          1.751232          0.315044       0.424425   \n",
       "1             1.525772          1.751232          0.247289       0.232891   \n",
       "2             1.525772          1.751232          0.037020       0.035144   \n",
       "3             1.525772          1.751232          0.109795       0.406905   \n",
       "4             1.525772          1.751232          0.029160       0.058441   \n",
       "\n",
       "   transaction_score  is_normal  \n",
       "0           0.859924          1  \n",
       "1           0.692950          1  \n",
       "2           0.268633          1  \n",
       "3           0.718818          1  \n",
       "4           0.295975          1  "
      ]
     },
     "execution_count": 41,
     "metadata": {},
     "output_type": "execute_result"
    }
   ],
   "source": [
    "data.head()"
   ]
  },
  {
   "cell_type": "code",
   "execution_count": 42,
   "metadata": {},
   "outputs": [
    {
     "data": {
      "text/plain": [
       "1    75\n",
       "Name: is_normal, dtype: int64"
      ]
     },
     "execution_count": 42,
     "metadata": {},
     "output_type": "execute_result"
    }
   ],
   "source": [
    "data[data[\"Account_No\"]==clients[11]] [\"is_normal\"].value_counts()"
   ]
  },
  {
   "cell_type": "markdown",
   "metadata": {},
   "source": [
    "### 3) Add thresholds"
   ]
  },
  {
   "cell_type": "code",
   "execution_count": 43,
   "metadata": {},
   "outputs": [],
   "source": [
    "profiles=list(data[\"cluster_max\"].unique())"
   ]
  },
  {
   "cell_type": "code",
   "execution_count": 44,
   "metadata": {},
   "outputs": [
    {
     "data": {
      "text/plain": [
       "[0, 1]"
      ]
     },
     "execution_count": 44,
     "metadata": {},
     "output_type": "execute_result"
    }
   ],
   "source": [
    "profiles"
   ]
  },
  {
   "cell_type": "code",
   "execution_count": 45,
   "metadata": {},
   "outputs": [
    {
     "data": {
      "image/png": "[encoded data removed]",
      "text/plain": [
       "<Figure size 1440x360 with 2 Axes>"
      ]
     },
     "metadata": {
      "needs_background": "light"
     },
     "output_type": "display_data"
    }
   ],
   "source": [
    "plt.figure(1 , figsize = (20 , 5))\n",
    "n = 0 \n",
    "for x in profiles:\n",
    "    n += 1\n",
    "    plt.subplot(2 , 3 , n)\n",
    "    plt.subplots_adjust(hspace = 0.5 , wspace = 0.3)\n",
    "    sns.distplot(data[data[\"cluster_max\"]==x][\"transaction_score\"])\n",
    "\n",
    "    plt.title( \"profile \" + str(x) )\n",
    "plt.show()\n",
    "\n"
   ]
  },
  {
   "cell_type": "code",
   "execution_count": 46,
   "metadata": {
    "scrolled": true
   },
   "outputs": [
    {
     "data": {
      "image/png": "[encoded data removed]",
      "text/plain": [
       "<Figure size 1440x360 with 2 Axes>"
      ]
     },
     "metadata": {
      "needs_background": "light"
     },
     "output_type": "display_data"
    }
   ],
   "source": [
    "plt.figure(1 , figsize = (20 , 5))\n",
    "n = 0 \n",
    "for x in profiles:\n",
    "    n += 1\n",
    "    plt.subplot(2 , 3 , n)\n",
    "    plt.subplots_adjust(hspace = 0.5 , wspace = 0.3)\n",
    "    sns.boxplot(x=data[data[\"cluster_max\"]==x][\"transaction_score\"])\n",
    "\n",
    "\n",
    "    plt.title( \"profile \" + str(x) )\n",
    "plt.show()\n"
   ]
  },
  {
   "cell_type": "code",
   "execution_count": 47,
   "metadata": {},
   "outputs": [],
   "source": [
    "# Point on the outliers in each profile\n",
    "# q3=data[data[\"cluster_max\"]==x][\"transaction_score\"].quantile(0.75)\n"
   ]
  },
  {
   "cell_type": "code",
   "execution_count": 48,
   "metadata": {},
   "outputs": [],
   "source": [
    "# data[\"risk_is_medium\"]=0\n",
    "# q3=data[data[\"cluster_max\"]==x][\"transaction_score\"].quantile(0.75)\n",
    "# cond_q=data[data[\"cluster_max\"]==x][\"transaction_score\"]>q3\n",
    "# data[\"risk_is_medium\"]=data[\"risk_is_medium\"].mask(cond_q,1)"
   ]
  },
  {
   "cell_type": "code",
   "execution_count": 49,
   "metadata": {},
   "outputs": [],
   "source": [
    "data[\"q3_threshold\"]=0\n",
    "\n",
    "for x in profiles:\n",
    "    cond_q=data[\"cluster_max\"]==x\n",
    "    q3=data[data[\"cluster_max\"]==x][\"transaction_score\"].quantile(0.75)\n",
    "    data[\"q3_threshold\"]=data[\"q3_threshold\"].mask(cond_q,q3)"
   ]
  },
  {
   "cell_type": "code",
   "execution_count": 50,
   "metadata": {},
   "outputs": [
    {
     "data": {
      "text/html": [
       "<div>\n",
       "<style scoped>\n",
       "    .dataframe tbody tr th:only-of-type {\n",
       "        vertical-align: middle;\n",
       "    }\n",
       "\n",
       "    .dataframe tbody tr th {\n",
       "        vertical-align: top;\n",
       "    }\n",
       "\n",
       "    .dataframe thead th {\n",
       "        text-align: right;\n",
       "    }\n",
       "</style>\n",
       "<table border=\"1\" class=\"dataframe\">\n",
       "  <thead>\n",
       "    <tr style=\"text-align: right;\">\n",
       "      <th></th>\n",
       "      <th>withd_by_date</th>\n",
       "      <th>dep_by_date</th>\n",
       "      <th>cluster</th>\n",
       "      <th>Account_No</th>\n",
       "      <th>cluster_max</th>\n",
       "      <th>Withdrawal_centroid</th>\n",
       "      <th>Deposit_centroid</th>\n",
       "      <th>withdrawal_score</th>\n",
       "      <th>deposit_score</th>\n",
       "      <th>transaction_score</th>\n",
       "      <th>is_normal</th>\n",
       "      <th>q3_threshold</th>\n",
       "    </tr>\n",
       "  </thead>\n",
       "  <tbody>\n",
       "    <tr>\n",
       "      <th>0</th>\n",
       "      <td>0.964484</td>\n",
       "      <td>1.099753</td>\n",
       "      <td>0</td>\n",
       "      <td>1196428'</td>\n",
       "      <td>0</td>\n",
       "      <td>1.525772</td>\n",
       "      <td>1.751232</td>\n",
       "      <td>0.315044</td>\n",
       "      <td>0.424425</td>\n",
       "      <td>0.859924</td>\n",
       "      <td>1</td>\n",
       "      <td>1.58378</td>\n",
       "    </tr>\n",
       "    <tr>\n",
       "      <th>1</th>\n",
       "      <td>2.023054</td>\n",
       "      <td>2.233820</td>\n",
       "      <td>0</td>\n",
       "      <td>1196428'</td>\n",
       "      <td>0</td>\n",
       "      <td>1.525772</td>\n",
       "      <td>1.751232</td>\n",
       "      <td>0.247289</td>\n",
       "      <td>0.232891</td>\n",
       "      <td>0.692950</td>\n",
       "      <td>1</td>\n",
       "      <td>1.58378</td>\n",
       "    </tr>\n",
       "    <tr>\n",
       "      <th>2</th>\n",
       "      <td>1.333366</td>\n",
       "      <td>1.938699</td>\n",
       "      <td>0</td>\n",
       "      <td>1196428'</td>\n",
       "      <td>0</td>\n",
       "      <td>1.525772</td>\n",
       "      <td>1.751232</td>\n",
       "      <td>0.037020</td>\n",
       "      <td>0.035144</td>\n",
       "      <td>0.268633</td>\n",
       "      <td>1</td>\n",
       "      <td>1.58378</td>\n",
       "    </tr>\n",
       "    <tr>\n",
       "      <th>3</th>\n",
       "      <td>1.194419</td>\n",
       "      <td>1.113341</td>\n",
       "      <td>0</td>\n",
       "      <td>1196428'</td>\n",
       "      <td>0</td>\n",
       "      <td>1.525772</td>\n",
       "      <td>1.751232</td>\n",
       "      <td>0.109795</td>\n",
       "      <td>0.406905</td>\n",
       "      <td>0.718818</td>\n",
       "      <td>1</td>\n",
       "      <td>1.58378</td>\n",
       "    </tr>\n",
       "    <tr>\n",
       "      <th>4</th>\n",
       "      <td>1.355009</td>\n",
       "      <td>1.509487</td>\n",
       "      <td>0</td>\n",
       "      <td>1196428'</td>\n",
       "      <td>0</td>\n",
       "      <td>1.525772</td>\n",
       "      <td>1.751232</td>\n",
       "      <td>0.029160</td>\n",
       "      <td>0.058441</td>\n",
       "      <td>0.295975</td>\n",
       "      <td>1</td>\n",
       "      <td>1.58378</td>\n",
       "    </tr>\n",
       "  </tbody>\n",
       "</table>\n",
       "</div>"
      ],
      "text/plain": [
       "   withd_by_date  dep_by_date  cluster Account_No  cluster_max  \\\n",
       "0       0.964484     1.099753        0   1196428'            0   \n",
       "1       2.023054     2.233820        0   1196428'            0   \n",
       "2       1.333366     1.938699        0   1196428'            0   \n",
       "3       1.194419     1.113341        0   1196428'            0   \n",
       "4       1.355009     1.509487        0   1196428'            0   \n",
       "\n",
       "   Withdrawal_centroid  Deposit_centroid  withdrawal_score  deposit_score  \\\n",
       "0             1.525772          1.751232          0.315044       0.424425   \n",
       "1             1.525772          1.751232          0.247289       0.232891   \n",
       "2             1.525772          1.751232          0.037020       0.035144   \n",
       "3             1.525772          1.751232          0.109795       0.406905   \n",
       "4             1.525772          1.751232          0.029160       0.058441   \n",
       "\n",
       "   transaction_score  is_normal  q3_threshold  \n",
       "0           0.859924          1       1.58378  \n",
       "1           0.692950          1       1.58378  \n",
       "2           0.268633          1       1.58378  \n",
       "3           0.718818          1       1.58378  \n",
       "4           0.295975          1       1.58378  "
      ]
     },
     "execution_count": 50,
     "metadata": {},
     "output_type": "execute_result"
    }
   ],
   "source": [
    "data.head()"
   ]
  },
  {
   "cell_type": "code",
   "execution_count": 51,
   "metadata": {},
   "outputs": [
    {
     "data": {
      "text/plain": [
       "19.80891335032331"
      ]
     },
     "execution_count": 51,
     "metadata": {},
     "output_type": "execute_result"
    }
   ],
   "source": [
    "np.max(data[data[\"cluster_max\"]==x][\"transaction_score\"])"
   ]
  },
  {
   "cell_type": "code",
   "execution_count": 52,
   "metadata": {},
   "outputs": [],
   "source": [
    "data[\"max_threshold\"]=0\n",
    "\n",
    "for x in profiles:\n",
    "    cond_max=data[\"cluster_max\"]==x\n",
    "    maxi=np.max(data[data[\"cluster_max\"]==x][\"transaction_score\"])\n",
    "    data[\"max_threshold\"]=data[\"max_threshold\"].mask(cond_max,maxi)"
   ]
  },
  {
   "cell_type": "code",
   "execution_count": 53,
   "metadata": {},
   "outputs": [],
   "source": [
    "data[\"month\"]=df[\"month\"]"
   ]
  },
  {
   "cell_type": "code",
   "execution_count": 54,
   "metadata": {},
   "outputs": [
    {
     "data": {
      "text/html": [
       "<div>\n",
       "<style scoped>\n",
       "    .dataframe tbody tr th:only-of-type {\n",
       "        vertical-align: middle;\n",
       "    }\n",
       "\n",
       "    .dataframe tbody tr th {\n",
       "        vertical-align: top;\n",
       "    }\n",
       "\n",
       "    .dataframe thead th {\n",
       "        text-align: right;\n",
       "    }\n",
       "</style>\n",
       "<table border=\"1\" class=\"dataframe\">\n",
       "  <thead>\n",
       "    <tr style=\"text-align: right;\">\n",
       "      <th></th>\n",
       "      <th>withd_by_date</th>\n",
       "      <th>dep_by_date</th>\n",
       "      <th>cluster</th>\n",
       "      <th>Account_No</th>\n",
       "      <th>cluster_max</th>\n",
       "      <th>Withdrawal_centroid</th>\n",
       "      <th>Deposit_centroid</th>\n",
       "      <th>withdrawal_score</th>\n",
       "      <th>deposit_score</th>\n",
       "      <th>transaction_score</th>\n",
       "      <th>is_normal</th>\n",
       "      <th>q3_threshold</th>\n",
       "      <th>max_threshold</th>\n",
       "      <th>month</th>\n",
       "    </tr>\n",
       "  </thead>\n",
       "  <tbody>\n",
       "    <tr>\n",
       "      <th>0</th>\n",
       "      <td>0.964484</td>\n",
       "      <td>1.099753</td>\n",
       "      <td>0</td>\n",
       "      <td>1196428'</td>\n",
       "      <td>0</td>\n",
       "      <td>1.525772</td>\n",
       "      <td>1.751232</td>\n",
       "      <td>0.315044</td>\n",
       "      <td>0.424425</td>\n",
       "      <td>0.859924</td>\n",
       "      <td>1</td>\n",
       "      <td>1.58378</td>\n",
       "      <td>4.987593</td>\n",
       "      <td>1</td>\n",
       "    </tr>\n",
       "  </tbody>\n",
       "</table>\n",
       "</div>"
      ],
      "text/plain": [
       "   withd_by_date  dep_by_date  cluster Account_No  cluster_max  \\\n",
       "0       0.964484     1.099753        0   1196428'            0   \n",
       "\n",
       "   Withdrawal_centroid  Deposit_centroid  withdrawal_score  deposit_score  \\\n",
       "0             1.525772          1.751232          0.315044       0.424425   \n",
       "\n",
       "   transaction_score  is_normal  q3_threshold  max_threshold  month  \n",
       "0           0.859924          1       1.58378       4.987593      1  "
      ]
     },
     "execution_count": 54,
     "metadata": {},
     "output_type": "execute_result"
    }
   ],
   "source": [
    "data.head(1)\n"
   ]
  },
  {
   "cell_type": "code",
   "execution_count": 55,
   "metadata": {},
   "outputs": [],
   "source": [
    "scores=pd.DataFrame()\n",
    "scores[[\"Account_No\",\"month\",\"cluster_max\",\"withdrawal_score\",\"deposit_score\",\n",
    "        \"transaction_score\",\"is_normal\",\"q3_threshold\",\"max_threshold\"]]=data[[\"Account_No\",\"month\",\"cluster_max\",\"withdrawal_score\",\"deposit_score\",\n",
    "                                                                                                                                         \"transaction_score\",\"is_normal\",\"q3_threshold\",\"max_threshold\"]]"
   ]
  },
  {
   "cell_type": "code",
   "execution_count": 56,
   "metadata": {},
   "outputs": [],
   "source": [
    "scores.to_csv ('ts_transactions_scores_2.1.csv', index = None, header=True)\n"
   ]
  },
  {
   "cell_type": "code",
   "execution_count": 57,
   "metadata": {},
   "outputs": [
    {
     "data": {
      "text/plain": [
       "Series([], Name: Account_No, dtype: int64)"
      ]
     },
     "execution_count": 57,
     "metadata": {},
     "output_type": "execute_result"
    }
   ],
   "source": [
    "# clients\n",
    "data[\"Account_No\"][data[\"cluster_max\"]==5].value_counts()"
   ]
  },
  {
   "cell_type": "code",
   "execution_count": 58,
   "metadata": {},
   "outputs": [
    {
     "data": {
      "text/plain": [
       "<matplotlib.axes._subplots.AxesSubplot at 0x12376198>"
      ]
     },
     "execution_count": 58,
     "metadata": {},
     "output_type": "execute_result"
    },
    {
     "data": {
      "image/png": "[encoded data removed]",
      "text/plain": [
       "<Figure size 1080x360 with 2 Axes>"
      ]
     },
     "metadata": {
      "needs_background": "light"
     },
     "output_type": "display_data"
    }
   ],
   "source": [
    "plt.figure(figsize=(15,5))\n",
    "c= data.corr()\n",
    "sns.heatmap(c,cmap='BrBG',annot=True)"
   ]
  },
  {
   "cell_type": "code",
   "execution_count": 59,
   "metadata": {},
   "outputs": [],
   "source": [
    "# scores[\"month_df\"]=df[\"month\"]\n",
    "# scores['day_df']=df[\"day\"]"
   ]
  },
  {
   "cell_type": "code",
   "execution_count": 60,
   "metadata": {},
   "outputs": [
    {
     "data": {
      "text/html": [
       "<div>\n",
       "<style scoped>\n",
       "    .dataframe tbody tr th:only-of-type {\n",
       "        vertical-align: middle;\n",
       "    }\n",
       "\n",
       "    .dataframe tbody tr th {\n",
       "        vertical-align: top;\n",
       "    }\n",
       "\n",
       "    .dataframe thead th {\n",
       "        text-align: right;\n",
       "    }\n",
       "</style>\n",
       "<table border=\"1\" class=\"dataframe\">\n",
       "  <thead>\n",
       "    <tr style=\"text-align: right;\">\n",
       "      <th></th>\n",
       "      <th>Account_No</th>\n",
       "      <th>month</th>\n",
       "      <th>cluster_max</th>\n",
       "      <th>withdrawal_score</th>\n",
       "      <th>deposit_score</th>\n",
       "      <th>transaction_score</th>\n",
       "      <th>is_normal</th>\n",
       "      <th>q3_threshold</th>\n",
       "      <th>max_threshold</th>\n",
       "    </tr>\n",
       "  </thead>\n",
       "  <tbody>\n",
       "    <tr>\n",
       "      <th>0</th>\n",
       "      <td>1196428'</td>\n",
       "      <td>1</td>\n",
       "      <td>0</td>\n",
       "      <td>0.315044</td>\n",
       "      <td>0.424425</td>\n",
       "      <td>0.859924</td>\n",
       "      <td>1</td>\n",
       "      <td>1.58378</td>\n",
       "      <td>4.987593</td>\n",
       "    </tr>\n",
       "  </tbody>\n",
       "</table>\n",
       "</div>"
      ],
      "text/plain": [
       "  Account_No  month  cluster_max  withdrawal_score  deposit_score  \\\n",
       "0   1196428'      1            0          0.315044       0.424425   \n",
       "\n",
       "   transaction_score  is_normal  q3_threshold  max_threshold  \n",
       "0           0.859924          1       1.58378       4.987593  "
      ]
     },
     "execution_count": 60,
     "metadata": {},
     "output_type": "execute_result"
    }
   ],
   "source": [
    "scores.head(1)"
   ]
  },
  {
   "cell_type": "code",
   "execution_count": null,
   "metadata": {},
   "outputs": [],
   "source": []
  }
 ],
 "metadata": {
  "kernelspec": {
   "display_name": "Python 3",
   "language": "python",
   "name": "python3"
  },
  "language_info": {
   "codemirror_mode": {
    "name": "ipython",
    "version": 3
   },
   "file_extension": ".py",
   "mimetype": "text/x-python",
   "name": "python",
   "nbconvert_exporter": "python",
   "pygments_lexer": "ipython3",
   "version": "3.7.1"
  }
 },
 "nbformat": 4,
 "nbformat_minor": 2
}
