{
 "cells": [
  {
   "cell_type": "code",
   "execution_count": 1,
   "metadata": {},
   "outputs": [],
   "source": [
    "#https://www.kaggle.com/kanatoko/unsupervised-anomaly-detection-xbos-hbos-iforest/notebook\n",
    "\n",
    "import math\n",
    "import numpy as np\n",
    "from pandas import DataFrame\n",
    "import datetime\n",
    "from itertools import repeat\n",
    "\n"
   ]
  },
  {
   "cell_type": "code",
   "execution_count": 2,
   "metadata": {},
   "outputs": [],
   "source": [
    "class HBOS:\n",
    "        \n",
    "    def __init__(self, log_scale=True, ranked=False, bin_info_array=[], mode_array=[], nominal_array=[]):\n",
    "        self.log_scale = log_scale\n",
    "        self.ranked = ranked\n",
    "        self.bin_info_array = bin_info_array\n",
    "        self.mode_array = mode_array\n",
    "        self.nominal_array = nominal_array\n",
    "        # self.histogram_list = []\n",
    "        \n",
    "    def fit(self, data):\n",
    "        attr_size = len(data.columns)\n",
    "        total_data_size = len(data)\n",
    "        \n",
    "        # init params if needed\n",
    "        if len(self.bin_info_array) == 0:\n",
    "            self.bin_info_array = list(repeat(-1, attr_size))\n",
    "        \n",
    "        if len(self.mode_array) == 0:\n",
    "            self.mode_array = list(repeat('dynamic binwidth', attr_size))\n",
    "            \n",
    "        if len(self.nominal_array) == 0:\n",
    "            self.nominal_array = list(repeat(False, attr_size))\n",
    "        \n",
    "        if self.ranked:\n",
    "            self.log_scale = False\n",
    "            \n",
    "        normal = 1.0\n",
    "        \n",
    "        # calculate standard _bin size if needed\n",
    "        for i in range(len(self.bin_info_array)):\n",
    "            if self.bin_info_array[ i ] == -1:\n",
    "                self.bin_info_array[ i ] = round(math.sqrt(len(data))) #k=racine(N)\n",
    "                \n",
    "        # initialize histogram\n",
    "        self.histogram_list = []\n",
    "        for i in range(attr_size):\n",
    "            self.histogram_list.append([])\n",
    "            \n",
    "            #DYNAMIC BIN-WIDTH HISTOGRAM\n",
    "        # save maximum value for every attribute(needed to normalize _bin width)\n",
    "        maximum_value_of_rows = data.apply(max).values\n",
    "        \n",
    "        # sort data\n",
    "        sorted_data = data.apply(sorted)\n",
    "        \n",
    "        # create histograms\n",
    "        for attrIndex in range(len(sorted_data.columns)):\n",
    "            attr = sorted_data.columns[ attrIndex ]\n",
    "            last = 0\n",
    "            bin_start = sorted_data[ attr ][ 0 ]\n",
    "            if self.mode_array[ attrIndex ] == 'dynamic binwidth':\n",
    "                if self.nominal_array[ attrIndex ] == True:\n",
    "                    while last < len(sorted_data) - 1:\n",
    "                        last = self.create_dynamic_histogram(self.histogram_list, sorted_data, last, 1, attrIndex, True)\n",
    "                else:\n",
    "                    length = len(sorted_data)\n",
    "                    binwidth = self.bin_info_array[ attrIndex ]\n",
    "                    while last < len(sorted_data) - 1:\n",
    "                        values_per_bin = math.floor(len(sorted_data) / self.bin_info_array[ attrIndex ]) #N/k\n",
    "                        last = self.create_dynamic_histogram(self.histogram_list, sorted_data, last, values_per_bin, attrIndex, False)\n",
    "                        if binwidth > 1:\n",
    "                            length = length - self.histogram_list[ attrIndex ][ -1 ].quantity\n",
    "                            binwidth = binwidth - 1\n",
    "            else:\n",
    "                count_bins = 0\n",
    "                binwidth = (sorted_data[ attr ][ len(sorted_data) - 1 ] - sorted_data[ attr ][ 0 ]) / self.bin_info_array[ attrIndex ]\n",
    "                if (self.nominal_array[ attrIndex ] == True) | (binwidth == 0):\n",
    "                    binwidth = 1\n",
    "                while last < len(sorted_data):\n",
    "                    is_last_bin = count_bins == self.bin_info_array[ attrIndex ] - 1\n",
    "                    last = self.create_static_histogram(self.histogram_list, sorted_data, last, binwidth, attrIndex, bin_start, is_last_bin)\n",
    "                    bin_start = bin_start + binwidth\n",
    "                    count_bins = count_bins + 1\n",
    "    \n",
    "        # calculate score using normalized _bin width\n",
    "        # _bin width is normalized to the number of datapoints\n",
    "        # save maximum score for every attr(needed to normalize score)\n",
    "        max_score = []\n",
    "        \n",
    "        # loop for all histograms\n",
    "        for i in range(len(self.histogram_list)):\n",
    "            max_score.append(0)\n",
    "            histogram = self.histogram_list[ i ]\n",
    "            \n",
    "            # loop for all bins\n",
    "            for k in range(len(histogram)):\n",
    "                _bin = histogram[ k ]\n",
    "                _bin.total_data_size = total_data_size\n",
    "                _bin.calc_score(maximum_value_of_rows[ i ])\n",
    "                if max_score[ i ] < _bin.score:\n",
    "                    max_score[ i ] = _bin.score\n",
    "                    \n",
    "        for i in range(len(self.histogram_list)):\n",
    "            histogram = self.histogram_list[ i ]\n",
    "            for k in range(len(histogram)):\n",
    "                _bin = histogram[ k ]\n",
    "                _bin.normalize_score(normal, max_score[ i ], self.log_scale)\n",
    "                \n",
    "        # if ranked\n",
    "        \n",
    "    def predict(self, data):\n",
    "        score_array = []\n",
    "        for i in range(len(data)):\n",
    "            each_data = data.values[ i ]\n",
    "            value = 1\n",
    "            if self.log_scale | self.ranked:\n",
    "                value = 0\n",
    "            for attr in range(len(data.columns)):\n",
    "                score = self.get_score(self.histogram_list[ attr ], each_data[ attr ]) #Histo de l'attribu + valeur de l'attribu dans l'observation (args de get_score)\n",
    "#                 if self.log_scale:\n",
    "                value = value + score\n",
    "#                 elif self.ranked:\n",
    "#                     value = value + score\n",
    "#                 else:\n",
    "#                     value = value * score\n",
    "            score_array.append(value)\n",
    "        return score_array\n",
    "    \n",
    "    \n",
    "    ###########################################################################################\n",
    "    \n",
    "## return sub_scores (COPIED FROM THE PREDICT FUNCTION)\n",
    "    def sub_scores(self, data):\n",
    "#         score_array = []\n",
    "        sub_score1=[]\n",
    "        for i in range(len(data)):\n",
    "            each_data = data.values[ i ]\n",
    "            value = 1\n",
    "            if self.log_scale | self.ranked:\n",
    "                value = 0\n",
    "            for attr in range(len(data.columns)):\n",
    "                score = self.get_score(self.histogram_list[ attr ], each_data[ attr ]) #Histo de l'attribu + valeur de l'attribu dans l'observation (args de get_score\n",
    "            \n",
    "                sub_score1.append(score)\n",
    "                \n",
    "        return sub_score1\n",
    "    \n",
    "    \n",
    "    def get_sub_scores(self, data):\n",
    "        self.fit(data)\n",
    "        return self.sub_scores(data)\n",
    "#     ########################################################################################\n",
    "    \n",
    "    def fit_predict(self, data):\n",
    "        self.fit(data)\n",
    "        return self.predict(data)\n",
    "                \n",
    "    def get_score(self, histogram, value):\n",
    "        for i in range(len(histogram) - 1):\n",
    "            _bin = histogram[ i ]\n",
    "            if (_bin.range_from <= value) & (value < _bin.range_to):\n",
    "                return _bin.score\n",
    "            \n",
    "        _bin = histogram[ -1 ]\n",
    "        if (_bin.range_from <= value) & (value <= _bin.range_to):\n",
    "            return _bin.score\n",
    "        return 0\n",
    "          \n",
    "    @staticmethod  \n",
    "    def check_amount(sortedData, first_occurrence, values_per_bin, attr):\n",
    "        # check if there are more than values_per_bin values of a given value\n",
    "        if first_occurrence + values_per_bin < len(sortedData):\n",
    "            if sortedData[ attr ][ first_occurrence ] == sortedData[ attr ][ first_occurrence + values_per_bin ]:\n",
    "                return True\n",
    "            else:\n",
    "                return False\n",
    "        else:\n",
    "            return False\n",
    "            \n",
    "    @staticmethod\n",
    "    def create_dynamic_histogram(histogram_list, sortedData, first_index, values_per_bin, attrIndex, isNominal):\n",
    "        last_index = 0\n",
    "        attr = sortedData.columns[ attrIndex ]\n",
    "        \n",
    "        # create new _bin\n",
    "        _bin = HistogramBin(sortedData[ attr ][ first_index ], 0, 0)\n",
    "            \n",
    "        # check if an end of the data is near\n",
    "        if first_index + values_per_bin < len(sortedData):\n",
    "            last_index = first_index + values_per_bin\n",
    "        else:\n",
    "            last_index = len(sortedData)\n",
    "    \n",
    "        # the first value always goes to the _bin\n",
    "        _bin.add_quantitiy(1)\n",
    "        \n",
    "        # for every other value\n",
    "        # check if it is the same as the last value\n",
    "        # if so\n",
    "        #   put it into the _bin\n",
    "        # if not\n",
    "        #   check if there are more than values_per_bin of that value\n",
    "        #   if so\n",
    "        #     open new _bin\n",
    "        #   if not\n",
    "        #     continue putting the value into the _bin\n",
    "        \n",
    "        cursor = first_index\n",
    "        for i in range(first_index + 1, last_index):\n",
    "            if sortedData[ attr ][ i ] == sortedData[ attr ][ cursor ]:\n",
    "                _bin.add_quantitiy(1)\n",
    "                cursor = cursor + 1\n",
    "            else:\n",
    "                if HBOS.check_amount(sortedData, i, values_per_bin, attr):\n",
    "                    break\n",
    "                else:\n",
    "                    _bin.add_quantitiy(1)\n",
    "                    cursor = cursor + 1\n",
    "                    \n",
    "        # continue to put values in the _bin until a new values arrive\n",
    "        for i in range(cursor + 1, len(sortedData)):\n",
    "            if sortedData[ attr ][ i ] == sortedData[ attr ][ cursor ]:\n",
    "                _bin.quantity = _bin.quantity + 1\n",
    "                cursor = cursor + 1\n",
    "            else:\n",
    "                break\n",
    "                \n",
    "        # adjust range of the bins\n",
    "        if cursor + 1 < len(sortedData):\n",
    "            _bin.range_to = sortedData[ attr ][ cursor + 1 ]\n",
    "        else:  # last data\n",
    "            if isNominal:\n",
    "                _bin.range_to = sortedData[ attr ][ len(sortedData) - 1 ] + 1\n",
    "            else:\n",
    "                _bin.range_to = sortedData[ attr ][ len(sortedData) - 1 ]\n",
    "                \n",
    "        # save _bin\n",
    "        if _bin.range_to - _bin.range_from > 0:\n",
    "            histogram_list[ attrIndex ].append(_bin)\n",
    "        elif len(histogram_list[ attrIndex ]) == 0:\n",
    "            _bin.range_to = _bin.range_to + 1\n",
    "            histogram_list[ attrIndex ].append(_bin)\n",
    "        else:\n",
    "            # if the _bin would have length of zero\n",
    "            # we merge it with previous _bin\n",
    "            # this can happen at the end of the histogram\n",
    "            lastBin = histogram_list[ attrIndex ][ -1 ]\n",
    "            lastBin.add_quantitiy(_bin.quantity)\n",
    "            lastBin.range_to = _bin.range_to\n",
    "        \n",
    "        return cursor + 1\n",
    "\n",
    "    @staticmethod\n",
    "    def create_static_histogram(histogram_list, sorted_data, first_index, binwidth, attrIndex, bin_start, last_bin):\n",
    "        attr = sorted_data.columns[ attrIndex ]\n",
    "        _bin = HistogramBin(bin_start, bin_start + binwidth, 0)\n",
    "        if last_bin == True:\n",
    "            _bin = HistogramBin(bin_start, sorted_data[ attr ][ len(sorted_data) - 1 ], 0)\n",
    "        \n",
    "        last = first_index - 1\n",
    "        cursor = first_index\n",
    "        \n",
    "        while True:\n",
    "            if cursor >= len(sorted_data):\n",
    "                break\n",
    "            if sorted_data[ attr ][ cursor ] > _bin.range_to:\n",
    "                break\n",
    "            _bin.quantity = _bin.quantity + 1\n",
    "            last = cursor\n",
    "            cursor = cursor + 1\n",
    "            \n",
    "        histogram_list[ attrIndex ].append(_bin)\n",
    "        return last + 1                 \n",
    "       \n",
    "\n",
    "class HistogramBin:\n",
    "\n",
    "    def __init__(self, range_from, range_to, quantity):\n",
    "        self.range_from = range_from\n",
    "        self.range_to = range_to\n",
    "        self.quantity = quantity\n",
    "        self.score = 0\n",
    "        self.total_data_size = 0\n",
    "        \n",
    "    def get_height(self):\n",
    "        width = self.range_to - self.range_from\n",
    "        height = self.quantity / width\n",
    "        return height\n",
    "    \n",
    "    def add_quantitiy(self, anz):\n",
    "        self.quantity = self.quantity + anz\n",
    "        \n",
    "    def calc_score(self, max_score):\n",
    "        if max_score == 0:\n",
    "            max_score = 1\n",
    "        \n",
    "        if self.quantity > 0:\n",
    "            self.score = self.quantity / ((self.range_to - self.range_from) * self.total_data_size / abs(max_score))\n",
    "        \n",
    "    def normalize_score(self, normal, max_score, log_scale):\n",
    "        self.score = self.score * normal / max_score\n",
    "        if(self.score == 0):\n",
    "            return\n",
    "        self.score = 1 / self.score\n",
    "        if log_scale:\n",
    "            self.score = math.log10(self.score)\n"
   ]
  },
  {
   "cell_type": "code",
   "execution_count": 3,
   "metadata": {},
   "outputs": [],
   "source": [
    "# DATASET\n",
    "import pandas as pd\n",
    "# dataset = pd.read_csv( \"dataset_hbos.csv\")\n",
    "dataset = pd.read_csv( \"transactions2018.csv\")\n",
    "dataset=dataset[dataset[\"Account_No\"]==\"A\"]\n",
    "orig = dataset.copy()"
   ]
  },
  {
   "cell_type": "code",
   "execution_count": 4,
   "metadata": {},
   "outputs": [],
   "source": [
    "del dataset['TRANSACTION_DETAILS']\n",
    "del dataset['AMOUNT']\n",
    "del dataset['type']\n",
    "# del dataset[\"month\"]\n",
    "del dataset[\"year\"]\n",
    "del dataset[\"DATE\"]\n",
    "del dataset[\"Account_No\"]\n",
    "del dataset[\"index\"]"
   ]
  },
  {
   "cell_type": "code",
   "execution_count": 5,
   "metadata": {},
   "outputs": [],
   "source": [
    "dataset.reset_index(drop=True, inplace=True)\n"
   ]
  },
  {
   "cell_type": "code",
   "execution_count": 6,
   "metadata": {},
   "outputs": [
    {
     "data": {
      "text/html": [
       "<div>\n",
       "<style scoped>\n",
       "    .dataframe tbody tr th:only-of-type {\n",
       "        vertical-align: middle;\n",
       "    }\n",
       "\n",
       "    .dataframe tbody tr th {\n",
       "        vertical-align: top;\n",
       "    }\n",
       "\n",
       "    .dataframe thead th {\n",
       "        text-align: right;\n",
       "    }\n",
       "</style>\n",
       "<table border=\"1\" class=\"dataframe\">\n",
       "  <thead>\n",
       "    <tr style=\"text-align: right;\">\n",
       "      <th></th>\n",
       "      <th>WITHDRAWAL_AMT</th>\n",
       "      <th>DEPOSIT_AMT</th>\n",
       "      <th>BALANCE_AMT</th>\n",
       "      <th>month</th>\n",
       "      <th>day</th>\n",
       "    </tr>\n",
       "  </thead>\n",
       "  <tbody>\n",
       "    <tr>\n",
       "      <th>0</th>\n",
       "      <td>2000.0</td>\n",
       "      <td>0.0</td>\n",
       "      <td>20000.0</td>\n",
       "      <td>1</td>\n",
       "      <td>1</td>\n",
       "    </tr>\n",
       "    <tr>\n",
       "      <th>1</th>\n",
       "      <td>4000.0</td>\n",
       "      <td>0.0</td>\n",
       "      <td>16000.0</td>\n",
       "      <td>1</td>\n",
       "      <td>1</td>\n",
       "    </tr>\n",
       "  </tbody>\n",
       "</table>\n",
       "</div>"
      ],
      "text/plain": [
       "   WITHDRAWAL_AMT  DEPOSIT_AMT  BALANCE_AMT  month  day\n",
       "0          2000.0          0.0      20000.0      1    1\n",
       "1          4000.0          0.0      16000.0      1    1"
      ]
     },
     "execution_count": 6,
     "metadata": {},
     "output_type": "execute_result"
    }
   ],
   "source": [
    "dataset[:2]"
   ]
  },
  {
   "cell_type": "code",
   "execution_count": 7,
   "metadata": {},
   "outputs": [],
   "source": [
    "# Execute HBOS\n",
    "hbos = HBOS()\n",
    "hbos_result = hbos.fit_predict(dataset)"
   ]
  },
  {
   "cell_type": "code",
   "execution_count": 8,
   "metadata": {},
   "outputs": [],
   "source": [
    "hbos_subscores= hbos.get_sub_scores(dataset)"
   ]
  },
  {
   "cell_type": "code",
   "execution_count": 9,
   "metadata": {},
   "outputs": [
    {
     "data": {
      "text/plain": [
       "520"
      ]
     },
     "execution_count": 9,
     "metadata": {},
     "output_type": "execute_result"
    }
   ],
   "source": [
    "len(hbos_subscores)"
   ]
  },
  {
   "cell_type": "code",
   "execution_count": 10,
   "metadata": {},
   "outputs": [
    {
     "data": {
      "text/plain": [
       "104"
      ]
     },
     "execution_count": 10,
     "metadata": {},
     "output_type": "execute_result"
    }
   ],
   "source": [
    "len(hbos_result)"
   ]
  },
  {
   "cell_type": "code",
   "execution_count": 11,
   "metadata": {},
   "outputs": [
    {
     "data": {
      "text/plain": [
       "5.0"
      ]
     },
     "execution_count": 11,
     "metadata": {},
     "output_type": "execute_result"
    }
   ],
   "source": [
    "len(hbos_subscores)/len(hbos_result)"
   ]
  },
  {
   "cell_type": "code",
   "execution_count": 12,
   "metadata": {},
   "outputs": [],
   "source": [
    "sub_withdrawal_amt=hbos_subscores[:len(hbos_result)]\n",
    "sub_deposit_amt=hbos_subscores[len(hbos_result):len(hbos_result)*2]\n",
    "sub_balance=hbos_subscores[len(hbos_result)*2:len(hbos_result)*3]\n",
    "sub_month=hbos_subscores[len(hbos_result)*3:len(hbos_result)*4]\n",
    "sub_day=hbos_subscores[len(hbos_result)*4:]"
   ]
  },
  {
   "cell_type": "code",
   "execution_count": 13,
   "metadata": {},
   "outputs": [
    {
     "data": {
      "text/plain": [
       "[1.3704514044224498,\n",
       " 0.3010299956639812,\n",
       " 0.3010299956639812,\n",
       " 0.5672978850687503,\n",
       " 0.0,\n",
       " 0.0,\n",
       " 0.43669259766405427,\n",
       " 0.0,\n",
       " 0.0,\n",
       " 1.60621595109912,\n",
       " 0.0,\n",
       " 0.1249387366083]"
      ]
     },
     "execution_count": 13,
     "metadata": {},
     "output_type": "execute_result"
    }
   ],
   "source": [
    "sub_day[:12]"
   ]
  },
  {
   "cell_type": "code",
   "execution_count": null,
   "metadata": {},
   "outputs": [],
   "source": []
  },
  {
   "cell_type": "code",
   "execution_count": 14,
   "metadata": {},
   "outputs": [],
   "source": [
    "# Merge HBOS result with labeld data( orig ) for evaluation¶\n",
    "hbos_orig = orig.copy()\n",
    "hbos_orig['hbos'] = hbos_result\n",
    "hbos_orig['sub_withdrawal_amt'] = sub_withdrawal_amt\n",
    "hbos_orig['sub_deposit_amt'] =sub_deposit_amt\n",
    "hbos_orig['sub_balance'] = sub_balance\n",
    "hbos_orig['sub_month'] = sub_month\n",
    "hbos_orig['sub_day'] = sub_day"
   ]
  },
  {
   "cell_type": "code",
   "execution_count": 15,
   "metadata": {},
   "outputs": [
    {
     "data": {
      "text/html": [
       "<div>\n",
       "<style scoped>\n",
       "    .dataframe tbody tr th:only-of-type {\n",
       "        vertical-align: middle;\n",
       "    }\n",
       "\n",
       "    .dataframe tbody tr th {\n",
       "        vertical-align: top;\n",
       "    }\n",
       "\n",
       "    .dataframe thead th {\n",
       "        text-align: right;\n",
       "    }\n",
       "</style>\n",
       "<table border=\"1\" class=\"dataframe\">\n",
       "  <thead>\n",
       "    <tr style=\"text-align: right;\">\n",
       "      <th></th>\n",
       "      <th>index</th>\n",
       "      <th>Account_No</th>\n",
       "      <th>DATE</th>\n",
       "      <th>TRANSACTION_DETAILS</th>\n",
       "      <th>WITHDRAWAL_AMT</th>\n",
       "      <th>DEPOSIT_AMT</th>\n",
       "      <th>BALANCE_AMT</th>\n",
       "      <th>year</th>\n",
       "      <th>month</th>\n",
       "      <th>day</th>\n",
       "      <th>type</th>\n",
       "      <th>AMOUNT</th>\n",
       "      <th>hbos</th>\n",
       "      <th>sub_withdrawal_amt</th>\n",
       "      <th>sub_deposit_amt</th>\n",
       "      <th>sub_balance</th>\n",
       "      <th>sub_month</th>\n",
       "      <th>sub_day</th>\n",
       "    </tr>\n",
       "  </thead>\n",
       "  <tbody>\n",
       "    <tr>\n",
       "      <th>35517</th>\n",
       "      <td>35517</td>\n",
       "      <td>A</td>\n",
       "      <td>2018-01-01 00:00:00</td>\n",
       "      <td>INDO GIBL Indiaforensic STL31121</td>\n",
       "      <td>2000.0</td>\n",
       "      <td>0.0</td>\n",
       "      <td>20000.0</td>\n",
       "      <td>2018</td>\n",
       "      <td>1</td>\n",
       "      <td>1</td>\n",
       "      <td>CASH_OUT</td>\n",
       "      <td>2000.0</td>\n",
       "      <td>1.154902</td>\n",
       "      <td>0.0</td>\n",
       "      <td>1.079181</td>\n",
       "      <td>0.346787</td>\n",
       "      <td>0.088727</td>\n",
       "      <td>1.370451</td>\n",
       "    </tr>\n",
       "    <tr>\n",
       "      <th>35518</th>\n",
       "      <td>35518</td>\n",
       "      <td>A</td>\n",
       "      <td>2018-01-01 00:00:00</td>\n",
       "      <td>INDO GIBL Indiaforensic STL30121</td>\n",
       "      <td>4000.0</td>\n",
       "      <td>0.0</td>\n",
       "      <td>16000.0</td>\n",
       "      <td>2018</td>\n",
       "      <td>1</td>\n",
       "      <td>1</td>\n",
       "      <td>PAYEMENT</td>\n",
       "      <td>4000.0</td>\n",
       "      <td>2.607042</td>\n",
       "      <td>0.0</td>\n",
       "      <td>0.000000</td>\n",
       "      <td>0.815940</td>\n",
       "      <td>0.397940</td>\n",
       "      <td>0.301030</td>\n",
       "    </tr>\n",
       "  </tbody>\n",
       "</table>\n",
       "</div>"
      ],
      "text/plain": [
       "       index Account_No                 DATE  \\\n",
       "35517  35517          A  2018-01-01 00:00:00   \n",
       "35518  35518          A  2018-01-01 00:00:00   \n",
       "\n",
       "                    TRANSACTION_DETAILS  WITHDRAWAL_AMT  DEPOSIT_AMT  \\\n",
       "35517  INDO GIBL Indiaforensic STL31121          2000.0          0.0   \n",
       "35518  INDO GIBL Indiaforensic STL30121          4000.0          0.0   \n",
       "\n",
       "       BALANCE_AMT  year  month  day      type  AMOUNT      hbos  \\\n",
       "35517      20000.0  2018      1    1  CASH_OUT  2000.0  1.154902   \n",
       "35518      16000.0  2018      1    1  PAYEMENT  4000.0  2.607042   \n",
       "\n",
       "       sub_withdrawal_amt  sub_deposit_amt  sub_balance  sub_month   sub_day  \n",
       "35517                 0.0         1.079181     0.346787   0.088727  1.370451  \n",
       "35518                 0.0         0.000000     0.815940   0.397940  0.301030  "
      ]
     },
     "execution_count": 15,
     "metadata": {},
     "output_type": "execute_result"
    }
   ],
   "source": [
    "# View merged data\n",
    "hbos_orig[:2]"
   ]
  },
  {
   "cell_type": "code",
   "execution_count": 16,
   "metadata": {},
   "outputs": [],
   "source": [
    "# Sort by HBOS anomaly score and take top 1000 data for evaluation\n",
    "hbos_top1000_data = hbos_orig.sort_values(by=['hbos'],ascending=False)[:1000]"
   ]
  },
  {
   "cell_type": "code",
   "execution_count": 17,
   "metadata": {
    "scrolled": true
   },
   "outputs": [
    {
     "data": {
      "text/html": [
       "<div>\n",
       "<style scoped>\n",
       "    .dataframe tbody tr th:only-of-type {\n",
       "        vertical-align: middle;\n",
       "    }\n",
       "\n",
       "    .dataframe tbody tr th {\n",
       "        vertical-align: top;\n",
       "    }\n",
       "\n",
       "    .dataframe thead th {\n",
       "        text-align: right;\n",
       "    }\n",
       "</style>\n",
       "<table border=\"1\" class=\"dataframe\">\n",
       "  <thead>\n",
       "    <tr style=\"text-align: right;\">\n",
       "      <th></th>\n",
       "      <th>index</th>\n",
       "      <th>Account_No</th>\n",
       "      <th>DATE</th>\n",
       "      <th>TRANSACTION_DETAILS</th>\n",
       "      <th>WITHDRAWAL_AMT</th>\n",
       "      <th>DEPOSIT_AMT</th>\n",
       "      <th>BALANCE_AMT</th>\n",
       "      <th>year</th>\n",
       "      <th>month</th>\n",
       "      <th>day</th>\n",
       "      <th>type</th>\n",
       "      <th>AMOUNT</th>\n",
       "      <th>hbos</th>\n",
       "      <th>sub_withdrawal_amt</th>\n",
       "      <th>sub_deposit_amt</th>\n",
       "      <th>sub_balance</th>\n",
       "      <th>sub_month</th>\n",
       "      <th>sub_day</th>\n",
       "    </tr>\n",
       "  </thead>\n",
       "  <tbody>\n",
       "    <tr>\n",
       "      <th>35589</th>\n",
       "      <td>35589</td>\n",
       "      <td>A</td>\n",
       "      <td>2018-09-20 00:00:00</td>\n",
       "      <td>FDRL/INTERNAL FUND TRANSFE</td>\n",
       "      <td>9000.0</td>\n",
       "      <td>0.0</td>\n",
       "      <td>-16440.0</td>\n",
       "      <td>2018</td>\n",
       "      <td>9</td>\n",
       "      <td>20</td>\n",
       "      <td>CHECK_WITHDRAWAL</td>\n",
       "      <td>9000.0</td>\n",
       "      <td>4.975432</td>\n",
       "      <td>0.544894</td>\n",
       "      <td>0.000000</td>\n",
       "      <td>0.896251</td>\n",
       "      <td>0.000000</td>\n",
       "      <td>0.000000</td>\n",
       "    </tr>\n",
       "    <tr>\n",
       "      <th>35562</th>\n",
       "      <td>35562</td>\n",
       "      <td>A</td>\n",
       "      <td>2018-06-28 00:00:00</td>\n",
       "      <td>FDRL/INTERNAL FUND TRANSFE</td>\n",
       "      <td>5000.0</td>\n",
       "      <td>0.0</td>\n",
       "      <td>-14000.0</td>\n",
       "      <td>2018</td>\n",
       "      <td>6</td>\n",
       "      <td>28</td>\n",
       "      <td>CHECK_WITHDRAWAL</td>\n",
       "      <td>5000.0</td>\n",
       "      <td>4.845098</td>\n",
       "      <td>1.606216</td>\n",
       "      <td>0.000000</td>\n",
       "      <td>0.259637</td>\n",
       "      <td>0.088727</td>\n",
       "      <td>0.000000</td>\n",
       "    </tr>\n",
       "    <tr>\n",
       "      <th>35536</th>\n",
       "      <td>35536</td>\n",
       "      <td>A</td>\n",
       "      <td>2018-03-19 00:00:00</td>\n",
       "      <td>INDO GIBL Indiaforensic STL18031</td>\n",
       "      <td>10000.0</td>\n",
       "      <td>0.0</td>\n",
       "      <td>-4500.0</td>\n",
       "      <td>2018</td>\n",
       "      <td>3</td>\n",
       "      <td>19</td>\n",
       "      <td>CHECK_WITHDRAWAL</td>\n",
       "      <td>10000.0</td>\n",
       "      <td>4.450619</td>\n",
       "      <td>0.815940</td>\n",
       "      <td>0.425969</td>\n",
       "      <td>0.698970</td>\n",
       "      <td>0.000000</td>\n",
       "      <td>0.000000</td>\n",
       "    </tr>\n",
       "    <tr>\n",
       "      <th>35530</th>\n",
       "      <td>35530</td>\n",
       "      <td>A</td>\n",
       "      <td>2018-02-28 00:00:00</td>\n",
       "      <td>FDRL/INTERNAL FUND TRANSFE</td>\n",
       "      <td>0.0</td>\n",
       "      <td>10000.0</td>\n",
       "      <td>16000.0</td>\n",
       "      <td>2018</td>\n",
       "      <td>2</td>\n",
       "      <td>28</td>\n",
       "      <td>TRANSFER</td>\n",
       "      <td>10000.0</td>\n",
       "      <td>4.149220</td>\n",
       "      <td>0.455932</td>\n",
       "      <td>0.286307</td>\n",
       "      <td>0.000000</td>\n",
       "      <td>2.720159</td>\n",
       "      <td>0.000000</td>\n",
       "    </tr>\n",
       "    <tr>\n",
       "      <th>35582</th>\n",
       "      <td>35582</td>\n",
       "      <td>A</td>\n",
       "      <td>2018-08-29 00:00:00</td>\n",
       "      <td>INDO GIBL Indiaforensic STL28081</td>\n",
       "      <td>6000.0</td>\n",
       "      <td>0.0</td>\n",
       "      <td>8600.0</td>\n",
       "      <td>2018</td>\n",
       "      <td>8</td>\n",
       "      <td>29</td>\n",
       "      <td>CASH_OUT</td>\n",
       "      <td>6000.0</td>\n",
       "      <td>4.019851</td>\n",
       "      <td>0.896251</td>\n",
       "      <td>0.815940</td>\n",
       "      <td>0.259637</td>\n",
       "      <td>0.088727</td>\n",
       "      <td>0.000000</td>\n",
       "    </tr>\n",
       "    <tr>\n",
       "      <th>35545</th>\n",
       "      <td>35545</td>\n",
       "      <td>A</td>\n",
       "      <td>2018-04-27 00:00:00</td>\n",
       "      <td>FDRL/INTERNAL FUND TRANSFE</td>\n",
       "      <td>0.0</td>\n",
       "      <td>10000.0</td>\n",
       "      <td>1400.0</td>\n",
       "      <td>2018</td>\n",
       "      <td>4</td>\n",
       "      <td>27</td>\n",
       "      <td>TRANSFER</td>\n",
       "      <td>10000.0</td>\n",
       "      <td>4.011055</td>\n",
       "      <td>0.455932</td>\n",
       "      <td>0.000000</td>\n",
       "      <td>0.000000</td>\n",
       "      <td>1.606216</td>\n",
       "      <td>1.037789</td>\n",
       "    </tr>\n",
       "    <tr>\n",
       "      <th>35537</th>\n",
       "      <td>35537</td>\n",
       "      <td>A</td>\n",
       "      <td>2018-03-28 00:00:00</td>\n",
       "      <td>FDRL/INTERNAL FUND TRANSFE</td>\n",
       "      <td>0.0</td>\n",
       "      <td>10000.0</td>\n",
       "      <td>5500.0</td>\n",
       "      <td>2018</td>\n",
       "      <td>3</td>\n",
       "      <td>28</td>\n",
       "      <td>TRANSFER</td>\n",
       "      <td>10000.0</td>\n",
       "      <td>3.875393</td>\n",
       "      <td>1.424209</td>\n",
       "      <td>1.079181</td>\n",
       "      <td>0.346787</td>\n",
       "      <td>0.301030</td>\n",
       "      <td>0.000000</td>\n",
       "    </tr>\n",
       "    <tr>\n",
       "      <th>35588</th>\n",
       "      <td>35588</td>\n",
       "      <td>A</td>\n",
       "      <td>2018-09-10 00:00:00</td>\n",
       "      <td>Indfor INCOME INDO REMI07091</td>\n",
       "      <td>3240.0</td>\n",
       "      <td>0.0</td>\n",
       "      <td>-7440.0</td>\n",
       "      <td>2018</td>\n",
       "      <td>9</td>\n",
       "      <td>10</td>\n",
       "      <td>DEBIT</td>\n",
       "      <td>3240.0</td>\n",
       "      <td>3.865791</td>\n",
       "      <td>0.000000</td>\n",
       "      <td>1.339948</td>\n",
       "      <td>1.079181</td>\n",
       "      <td>0.301030</td>\n",
       "      <td>0.146128</td>\n",
       "    </tr>\n",
       "    <tr>\n",
       "      <th>35590</th>\n",
       "      <td>35590</td>\n",
       "      <td>A</td>\n",
       "      <td>2018-09-28 00:00:00</td>\n",
       "      <td>FDRL/INTERNAL FUND TRANSFE</td>\n",
       "      <td>0.0</td>\n",
       "      <td>15000.0</td>\n",
       "      <td>-1440.0</td>\n",
       "      <td>2018</td>\n",
       "      <td>9</td>\n",
       "      <td>28</td>\n",
       "      <td>TRANSFER</td>\n",
       "      <td>15000.0</td>\n",
       "      <td>3.832641</td>\n",
       "      <td>0.425969</td>\n",
       "      <td>0.698970</td>\n",
       "      <td>1.172962</td>\n",
       "      <td>0.000000</td>\n",
       "      <td>1.037789</td>\n",
       "    </tr>\n",
       "    <tr>\n",
       "      <th>35579</th>\n",
       "      <td>35579</td>\n",
       "      <td>A</td>\n",
       "      <td>2018-08-16 00:00:00</td>\n",
       "      <td>Indfor INCOME INDO REMI14081</td>\n",
       "      <td>3600.0</td>\n",
       "      <td>0.0</td>\n",
       "      <td>-6400.0</td>\n",
       "      <td>2018</td>\n",
       "      <td>8</td>\n",
       "      <td>16</td>\n",
       "      <td>CASH_OUT</td>\n",
       "      <td>3600.0</td>\n",
       "      <td>3.824398</td>\n",
       "      <td>0.301030</td>\n",
       "      <td>0.000000</td>\n",
       "      <td>0.000000</td>\n",
       "      <td>0.000000</td>\n",
       "      <td>0.000000</td>\n",
       "    </tr>\n",
       "    <tr>\n",
       "      <th>35523</th>\n",
       "      <td>35523</td>\n",
       "      <td>A</td>\n",
       "      <td>2018-01-29 00:00:00</td>\n",
       "      <td>FDRL/INTERNAL FUND TRANSFE</td>\n",
       "      <td>0.0</td>\n",
       "      <td>10000.0</td>\n",
       "      <td>20000.0</td>\n",
       "      <td>2018</td>\n",
       "      <td>1</td>\n",
       "      <td>29</td>\n",
       "      <td>TRANSFER</td>\n",
       "      <td>10000.0</td>\n",
       "      <td>3.791412</td>\n",
       "      <td>0.000000</td>\n",
       "      <td>1.606216</td>\n",
       "      <td>1.079181</td>\n",
       "      <td>0.397940</td>\n",
       "      <td>0.436693</td>\n",
       "    </tr>\n",
       "    <tr>\n",
       "      <th>35580</th>\n",
       "      <td>35580</td>\n",
       "      <td>A</td>\n",
       "      <td>2018-08-18 00:00:00</td>\n",
       "      <td>FDRL/INTERNAL FUND TRANSFE</td>\n",
       "      <td>0.0</td>\n",
       "      <td>6000.0</td>\n",
       "      <td>-400.0</td>\n",
       "      <td>2018</td>\n",
       "      <td>8</td>\n",
       "      <td>18</td>\n",
       "      <td>TRANSFER</td>\n",
       "      <td>6000.0</td>\n",
       "      <td>3.750454</td>\n",
       "      <td>0.455932</td>\n",
       "      <td>0.000000</td>\n",
       "      <td>0.000000</td>\n",
       "      <td>1.606216</td>\n",
       "      <td>0.000000</td>\n",
       "    </tr>\n",
       "    <tr>\n",
       "      <th>35573</th>\n",
       "      <td>35573</td>\n",
       "      <td>A</td>\n",
       "      <td>2018-07-27 00:00:00</td>\n",
       "      <td>FDRL/INTERNAL FUND TRANSFE</td>\n",
       "      <td>0.0</td>\n",
       "      <td>12000.0</td>\n",
       "      <td>10760.0</td>\n",
       "      <td>2018</td>\n",
       "      <td>7</td>\n",
       "      <td>27</td>\n",
       "      <td>TRANSFER</td>\n",
       "      <td>12000.0</td>\n",
       "      <td>3.742485</td>\n",
       "      <td>0.000000</td>\n",
       "      <td>1.720159</td>\n",
       "      <td>0.815940</td>\n",
       "      <td>0.397940</td>\n",
       "      <td>0.436693</td>\n",
       "    </tr>\n",
       "    <tr>\n",
       "      <th>35595</th>\n",
       "      <td>35595</td>\n",
       "      <td>A</td>\n",
       "      <td>2018-10-01 00:00:00</td>\n",
       "      <td>INDO GIBL Indiaforensic STL30091</td>\n",
       "      <td>5000.0</td>\n",
       "      <td>0.0</td>\n",
       "      <td>-15940.0</td>\n",
       "      <td>2018</td>\n",
       "      <td>10</td>\n",
       "      <td>1</td>\n",
       "      <td>CHECK_WITHDRAWAL</td>\n",
       "      <td>5000.0</td>\n",
       "      <td>3.720159</td>\n",
       "      <td>0.425969</td>\n",
       "      <td>0.698970</td>\n",
       "      <td>0.000000</td>\n",
       "      <td>2.720159</td>\n",
       "      <td>1.158362</td>\n",
       "    </tr>\n",
       "    <tr>\n",
       "      <th>35526</th>\n",
       "      <td>35526</td>\n",
       "      <td>A</td>\n",
       "      <td>2018-02-09 00:00:00</td>\n",
       "      <td>INDO GIBL Indiaforensic STL07021</td>\n",
       "      <td>4000.0</td>\n",
       "      <td>0.0</td>\n",
       "      <td>13000.0</td>\n",
       "      <td>2018</td>\n",
       "      <td>2</td>\n",
       "      <td>9</td>\n",
       "      <td>DEBIT</td>\n",
       "      <td>4000.0</td>\n",
       "      <td>3.686224</td>\n",
       "      <td>0.000000</td>\n",
       "      <td>0.425969</td>\n",
       "      <td>0.000000</td>\n",
       "      <td>1.172962</td>\n",
       "      <td>1.606216</td>\n",
       "    </tr>\n",
       "  </tbody>\n",
       "</table>\n",
       "</div>"
      ],
      "text/plain": [
       "       index Account_No                 DATE  \\\n",
       "35589  35589          A  2018-09-20 00:00:00   \n",
       "35562  35562          A  2018-06-28 00:00:00   \n",
       "35536  35536          A  2018-03-19 00:00:00   \n",
       "35530  35530          A  2018-02-28 00:00:00   \n",
       "35582  35582          A  2018-08-29 00:00:00   \n",
       "35545  35545          A  2018-04-27 00:00:00   \n",
       "35537  35537          A  2018-03-28 00:00:00   \n",
       "35588  35588          A  2018-09-10 00:00:00   \n",
       "35590  35590          A  2018-09-28 00:00:00   \n",
       "35579  35579          A  2018-08-16 00:00:00   \n",
       "35523  35523          A  2018-01-29 00:00:00   \n",
       "35580  35580          A  2018-08-18 00:00:00   \n",
       "35573  35573          A  2018-07-27 00:00:00   \n",
       "35595  35595          A  2018-10-01 00:00:00   \n",
       "35526  35526          A  2018-02-09 00:00:00   \n",
       "\n",
       "                    TRANSACTION_DETAILS  WITHDRAWAL_AMT  DEPOSIT_AMT  \\\n",
       "35589        FDRL/INTERNAL FUND TRANSFE          9000.0          0.0   \n",
       "35562        FDRL/INTERNAL FUND TRANSFE          5000.0          0.0   \n",
       "35536  INDO GIBL Indiaforensic STL18031         10000.0          0.0   \n",
       "35530        FDRL/INTERNAL FUND TRANSFE             0.0      10000.0   \n",
       "35582  INDO GIBL Indiaforensic STL28081          6000.0          0.0   \n",
       "35545        FDRL/INTERNAL FUND TRANSFE             0.0      10000.0   \n",
       "35537        FDRL/INTERNAL FUND TRANSFE             0.0      10000.0   \n",
       "35588      Indfor INCOME INDO REMI07091          3240.0          0.0   \n",
       "35590        FDRL/INTERNAL FUND TRANSFE             0.0      15000.0   \n",
       "35579      Indfor INCOME INDO REMI14081          3600.0          0.0   \n",
       "35523        FDRL/INTERNAL FUND TRANSFE             0.0      10000.0   \n",
       "35580        FDRL/INTERNAL FUND TRANSFE             0.0       6000.0   \n",
       "35573        FDRL/INTERNAL FUND TRANSFE             0.0      12000.0   \n",
       "35595  INDO GIBL Indiaforensic STL30091          5000.0          0.0   \n",
       "35526  INDO GIBL Indiaforensic STL07021          4000.0          0.0   \n",
       "\n",
       "       BALANCE_AMT  year  month  day              type   AMOUNT      hbos  \\\n",
       "35589     -16440.0  2018      9   20  CHECK_WITHDRAWAL   9000.0  4.975432   \n",
       "35562     -14000.0  2018      6   28  CHECK_WITHDRAWAL   5000.0  4.845098   \n",
       "35536      -4500.0  2018      3   19  CHECK_WITHDRAWAL  10000.0  4.450619   \n",
       "35530      16000.0  2018      2   28          TRANSFER  10000.0  4.149220   \n",
       "35582       8600.0  2018      8   29          CASH_OUT   6000.0  4.019851   \n",
       "35545       1400.0  2018      4   27          TRANSFER  10000.0  4.011055   \n",
       "35537       5500.0  2018      3   28          TRANSFER  10000.0  3.875393   \n",
       "35588      -7440.0  2018      9   10             DEBIT   3240.0  3.865791   \n",
       "35590      -1440.0  2018      9   28          TRANSFER  15000.0  3.832641   \n",
       "35579      -6400.0  2018      8   16          CASH_OUT   3600.0  3.824398   \n",
       "35523      20000.0  2018      1   29          TRANSFER  10000.0  3.791412   \n",
       "35580       -400.0  2018      8   18          TRANSFER   6000.0  3.750454   \n",
       "35573      10760.0  2018      7   27          TRANSFER  12000.0  3.742485   \n",
       "35595     -15940.0  2018     10    1  CHECK_WITHDRAWAL   5000.0  3.720159   \n",
       "35526      13000.0  2018      2    9             DEBIT   4000.0  3.686224   \n",
       "\n",
       "       sub_withdrawal_amt  sub_deposit_amt  sub_balance  sub_month   sub_day  \n",
       "35589            0.544894         0.000000     0.896251   0.000000  0.000000  \n",
       "35562            1.606216         0.000000     0.259637   0.088727  0.000000  \n",
       "35536            0.815940         0.425969     0.698970   0.000000  0.000000  \n",
       "35530            0.455932         0.286307     0.000000   2.720159  0.000000  \n",
       "35582            0.896251         0.815940     0.259637   0.088727  0.000000  \n",
       "35545            0.455932         0.000000     0.000000   1.606216  1.037789  \n",
       "35537            1.424209         1.079181     0.346787   0.301030  0.000000  \n",
       "35588            0.000000         1.339948     1.079181   0.301030  0.146128  \n",
       "35590            0.425969         0.698970     1.172962   0.000000  1.037789  \n",
       "35579            0.301030         0.000000     0.000000   0.000000  0.000000  \n",
       "35523            0.000000         1.606216     1.079181   0.397940  0.436693  \n",
       "35580            0.455932         0.000000     0.000000   1.606216  0.000000  \n",
       "35573            0.000000         1.720159     0.815940   0.397940  0.436693  \n",
       "35595            0.425969         0.698970     0.000000   2.720159  1.158362  \n",
       "35526            0.000000         0.425969     0.000000   1.172962  1.606216  "
      ]
     },
     "execution_count": 17,
     "metadata": {},
     "output_type": "execute_result"
    }
   ],
   "source": [
    "hbos_top1000_data[:15]\n"
   ]
  },
  {
   "cell_type": "code",
   "execution_count": 18,
   "metadata": {},
   "outputs": [],
   "source": [
    "import seaborn as sns\n"
   ]
  },
  {
   "cell_type": "code",
   "execution_count": 19,
   "metadata": {},
   "outputs": [
    {
     "data": {
      "text/plain": [
       "<matplotlib.axes._subplots.AxesSubplot at 0x11861be0>"
      ]
     },
     "execution_count": 19,
     "metadata": {},
     "output_type": "execute_result"
    },
    {
     "data": {
      "image/png": "[encoded data removed]",
      "text/plain": [
       "<Figure size 432x288 with 1 Axes>"
      ]
     },
     "metadata": {
      "needs_background": "light"
     },
     "output_type": "display_data"
    }
   ],
   "source": [
    "# hbos_top1000_data[:15]\n",
    "#thresholds\n",
    "sns.distplot(hbos_top1000_data[\"hbos\"])\n",
    "\n"
   ]
  },
  {
   "cell_type": "code",
   "execution_count": 21,
   "metadata": {},
   "outputs": [
    {
     "data": {
      "text/plain": [
       "3.443266582036263"
      ]
     },
     "execution_count": 21,
     "metadata": {},
     "output_type": "execute_result"
    }
   ],
   "source": [
    "q4=hbos_top1000_data[\"hbos\"].quantile(.75)\n",
    "q4"
   ]
  },
  {
   "cell_type": "code",
   "execution_count": 22,
   "metadata": {},
   "outputs": [
    {
     "data": {
      "text/plain": [
       "(26, 18)"
      ]
     },
     "execution_count": 22,
     "metadata": {},
     "output_type": "execute_result"
    }
   ],
   "source": [
    "hbos_top1000_data[hbos_top1000_data[\"hbos\"]>q4].shape"
   ]
  },
  {
   "cell_type": "code",
   "execution_count": 114,
   "metadata": {},
   "outputs": [],
   "source": [
    "#hbos_top1000_data[\"threshold\"] is 1 if transaction is suspicious and 0 otherwise\n",
    "\n",
    "hbos_top1000_data[\"threshold\"]=0\n",
    "cond_q=hbos_top1000_data[\"hbos\"]>q4\n",
    "hbos_top1000_data[\"threshold\"]=hbos_top1000_data[\"threshold\"].mask(cond_q,1)"
   ]
  },
  {
   "cell_type": "code",
   "execution_count": 115,
   "metadata": {},
   "outputs": [],
   "source": [
    "hbos_top1000_data.to_csv(\"hbo_result_1year_1client.csv\", index = None, header=True)"
   ]
  },
  {
   "cell_type": "code",
   "execution_count": 24,
   "metadata": {},
   "outputs": [],
   "source": [
    "client=hbos_top1000_data[hbos_top1000_data[\"Account_No\"]==\"409000438620'\"]"
   ]
  },
  {
   "cell_type": "code",
   "execution_count": 23,
   "metadata": {},
   "outputs": [
    {
     "data": {
      "text/plain": [
       "<matplotlib.axes._subplots.AxesSubplot at 0x13946390>"
      ]
     },
     "execution_count": 23,
     "metadata": {},
     "output_type": "execute_result"
    },
    {
     "data": {
      "image/png": "[encoded data removed]",
      "text/plain": [
       "<Figure size 432x288 with 1 Axes>"
      ]
     },
     "metadata": {
      "needs_background": "light"
     },
     "output_type": "display_data"
    }
   ],
   "source": [
    "sns.boxplot(hbos_top1000_data[\"hbos\"])"
   ]
  },
  {
   "cell_type": "code",
   "execution_count": 25,
   "metadata": {},
   "outputs": [],
   "source": [
    "# hbos_top1000_data[hbos_top1000_data[\"threshold\"]>q4]"
   ]
  },
  {
   "cell_type": "code",
   "execution_count": 26,
   "metadata": {},
   "outputs": [
    {
     "data": {
      "text/plain": [
       "<matplotlib.axes._subplots.AxesSubplot at 0x142a3438>"
      ]
     },
     "execution_count": 26,
     "metadata": {},
     "output_type": "execute_result"
    },
    {
     "data": {
      "image/png": "[encoded data removed]",
      "text/plain": [
       "<Figure size 432x288 with 1 Axes>"
      ]
     },
     "metadata": {
      "needs_background": "light"
     },
     "output_type": "display_data"
    }
   ],
   "source": [
    "sns.distplot(hbos_top1000_data[\"sub_withdrawal_amt\"])"
   ]
  },
  {
   "cell_type": "code",
   "execution_count": 27,
   "metadata": {},
   "outputs": [
    {
     "data": {
      "text/plain": [
       "<matplotlib.axes._subplots.AxesSubplot at 0x13a196d8>"
      ]
     },
     "execution_count": 27,
     "metadata": {},
     "output_type": "execute_result"
    },
    {
     "data": {
      "image/png": "[encoded data removed]",
      "text/plain": [
       "<Figure size 432x288 with 1 Axes>"
      ]
     },
     "metadata": {
      "needs_background": "light"
     },
     "output_type": "display_data"
    }
   ],
   "source": [
    "from scipy import stats\n",
    "sns.distplot(stats.zscore(hbos_top1000_data[\"sub_withdrawal_amt\"]))"
   ]
  },
  {
   "cell_type": "code",
   "execution_count": 29,
   "metadata": {},
   "outputs": [],
   "source": [
    "test_observation=pd.DataFrame()\n",
    "test_observation[\"WITHDRAWAL_AMT\"]=[2000.0, 0.0, 300000]\n",
    "test_observation[\"DEPOSIT_AMT\"]=[0.0, 5000, 0.0]\n",
    "test_observation[\"BALANCE_AMT\"]=[20000.0, 20500.0, -500]\n",
    "test_observation[\"month\"]=[1, 13, 1]\n",
    "test_observation[\"day\"]=[1, 1, 1]"
   ]
  },
  {
   "cell_type": "code",
   "execution_count": 30,
   "metadata": {
    "scrolled": true
   },
   "outputs": [
    {
     "data": {
      "text/html": [
       "<div>\n",
       "<style scoped>\n",
       "    .dataframe tbody tr th:only-of-type {\n",
       "        vertical-align: middle;\n",
       "    }\n",
       "\n",
       "    .dataframe tbody tr th {\n",
       "        vertical-align: top;\n",
       "    }\n",
       "\n",
       "    .dataframe thead th {\n",
       "        text-align: right;\n",
       "    }\n",
       "</style>\n",
       "<table border=\"1\" class=\"dataframe\">\n",
       "  <thead>\n",
       "    <tr style=\"text-align: right;\">\n",
       "      <th></th>\n",
       "      <th>WITHDRAWAL_AMT</th>\n",
       "      <th>DEPOSIT_AMT</th>\n",
       "      <th>BALANCE_AMT</th>\n",
       "      <th>month</th>\n",
       "      <th>day</th>\n",
       "    </tr>\n",
       "  </thead>\n",
       "  <tbody>\n",
       "    <tr>\n",
       "      <th>0</th>\n",
       "      <td>2000.0</td>\n",
       "      <td>0.0</td>\n",
       "      <td>20000.0</td>\n",
       "      <td>1</td>\n",
       "      <td>1</td>\n",
       "    </tr>\n",
       "    <tr>\n",
       "      <th>1</th>\n",
       "      <td>0.0</td>\n",
       "      <td>5000.0</td>\n",
       "      <td>20500.0</td>\n",
       "      <td>13</td>\n",
       "      <td>1</td>\n",
       "    </tr>\n",
       "    <tr>\n",
       "      <th>2</th>\n",
       "      <td>300000.0</td>\n",
       "      <td>0.0</td>\n",
       "      <td>-500.0</td>\n",
       "      <td>1</td>\n",
       "      <td>1</td>\n",
       "    </tr>\n",
       "  </tbody>\n",
       "</table>\n",
       "</div>"
      ],
      "text/plain": [
       "   WITHDRAWAL_AMT  DEPOSIT_AMT  BALANCE_AMT  month  day\n",
       "0          2000.0          0.0      20000.0      1    1\n",
       "1             0.0       5000.0      20500.0     13    1\n",
       "2        300000.0          0.0       -500.0      1    1"
      ]
     },
     "execution_count": 30,
     "metadata": {},
     "output_type": "execute_result"
    }
   ],
   "source": [
    "test_observation"
   ]
  },
  {
   "cell_type": "code",
   "execution_count": 31,
   "metadata": {},
   "outputs": [],
   "source": [
    "hbos_TESTresult = hbos.predict(test_observation)"
   ]
  },
  {
   "cell_type": "code",
   "execution_count": 32,
   "metadata": {},
   "outputs": [
    {
     "data": {
      "text/plain": [
       "[1.1549019599857433, 2.0692125631271763, 0.5808706922580243]"
      ]
     },
     "execution_count": 32,
     "metadata": {},
     "output_type": "execute_result"
    }
   ],
   "source": [
    "hbos_TESTresult"
   ]
  },
  {
   "cell_type": "code",
   "execution_count": 33,
   "metadata": {},
   "outputs": [],
   "source": [
    "hbos_subscoresTEST= hbos.get_sub_scores(test_observation)"
   ]
  },
  {
   "cell_type": "code",
   "execution_count": 34,
   "metadata": {},
   "outputs": [],
   "source": [
    "sub_withdrawal_amt=hbos_subscoresTEST[:len(hbos_TESTresult)]\n",
    "sub_deposit_amt=hbos_subscoresTEST[len(hbos_TESTresult):len(hbos_TESTresult)*2]\n",
    "sub_balance=hbos_subscoresTEST[len(hbos_TESTresult)*2:len(hbos_TESTresult)*3]\n",
    "sub_month=hbos_subscoresTEST[len(hbos_TESTresult)*3:len(hbos_TESTresult)*4]\n",
    "sub_day=hbos_subscoresTEST[len(hbos_TESTresult)*4:]"
   ]
  },
  {
   "cell_type": "code",
   "execution_count": 36,
   "metadata": {},
   "outputs": [],
   "source": [
    "# print(len(hbos_top1000_data[lambda x:x['Class']==1]))\n",
    "# Merge HBOS result with labeld data( orig ) for evaluation¶\n",
    "hbosTEST_orig = test_observation.copy()\n",
    "hbosTEST_orig['hbos'] = hbos_TESTresult\n",
    "hbosTEST_orig['sub_withdrawal_amt'] = sub_withdrawal_amt\n",
    "hbosTEST_orig['sub_deposit_amt'] =sub_deposit_amt\n",
    "hbosTEST_orig['sub_balance'] = sub_balance\n",
    "hbosTEST_orig['sub_month'] = sub_month\n",
    "hbosTEST_orig['sub_day'] = sub_day"
   ]
  },
  {
   "cell_type": "code",
   "execution_count": 37,
   "metadata": {},
   "outputs": [
    {
     "data": {
      "text/html": [
       "<div>\n",
       "<style scoped>\n",
       "    .dataframe tbody tr th:only-of-type {\n",
       "        vertical-align: middle;\n",
       "    }\n",
       "\n",
       "    .dataframe tbody tr th {\n",
       "        vertical-align: top;\n",
       "    }\n",
       "\n",
       "    .dataframe thead th {\n",
       "        text-align: right;\n",
       "    }\n",
       "</style>\n",
       "<table border=\"1\" class=\"dataframe\">\n",
       "  <thead>\n",
       "    <tr style=\"text-align: right;\">\n",
       "      <th></th>\n",
       "      <th>WITHDRAWAL_AMT</th>\n",
       "      <th>DEPOSIT_AMT</th>\n",
       "      <th>BALANCE_AMT</th>\n",
       "      <th>month</th>\n",
       "      <th>day</th>\n",
       "      <th>hbos</th>\n",
       "      <th>sub_withdrawal_amt</th>\n",
       "      <th>sub_deposit_amt</th>\n",
       "      <th>sub_balance</th>\n",
       "      <th>sub_month</th>\n",
       "      <th>sub_day</th>\n",
       "    </tr>\n",
       "  </thead>\n",
       "  <tbody>\n",
       "    <tr>\n",
       "      <th>0</th>\n",
       "      <td>2000.0</td>\n",
       "      <td>0.0</td>\n",
       "      <td>20000.0</td>\n",
       "      <td>1</td>\n",
       "      <td>1</td>\n",
       "      <td>1.154902</td>\n",
       "      <td>2.173186</td>\n",
       "      <td>0.0</td>\n",
       "      <td>0.0</td>\n",
       "      <td>0.000000</td>\n",
       "      <td>1.612784</td>\n",
       "    </tr>\n",
       "    <tr>\n",
       "      <th>1</th>\n",
       "      <td>0.0</td>\n",
       "      <td>5000.0</td>\n",
       "      <td>20500.0</td>\n",
       "      <td>13</td>\n",
       "      <td>1</td>\n",
       "      <td>2.069213</td>\n",
       "      <td>0.000000</td>\n",
       "      <td>0.0</td>\n",
       "      <td>0.0</td>\n",
       "      <td>2.173186</td>\n",
       "      <td>0.000000</td>\n",
       "    </tr>\n",
       "    <tr>\n",
       "      <th>2</th>\n",
       "      <td>300000.0</td>\n",
       "      <td>0.0</td>\n",
       "      <td>-500.0</td>\n",
       "      <td>1</td>\n",
       "      <td>1</td>\n",
       "      <td>0.580871</td>\n",
       "      <td>0.000000</td>\n",
       "      <td>0.0</td>\n",
       "      <td>0.0</td>\n",
       "      <td>0.000000</td>\n",
       "      <td>0.000000</td>\n",
       "    </tr>\n",
       "  </tbody>\n",
       "</table>\n",
       "</div>"
      ],
      "text/plain": [
       "   WITHDRAWAL_AMT  DEPOSIT_AMT  BALANCE_AMT  month  day      hbos  \\\n",
       "0          2000.0          0.0      20000.0      1    1  1.154902   \n",
       "1             0.0       5000.0      20500.0     13    1  2.069213   \n",
       "2        300000.0          0.0       -500.0      1    1  0.580871   \n",
       "\n",
       "   sub_withdrawal_amt  sub_deposit_amt  sub_balance  sub_month   sub_day  \n",
       "0            2.173186              0.0          0.0   0.000000  1.612784  \n",
       "1            0.000000              0.0          0.0   2.173186  0.000000  \n",
       "2            0.000000              0.0          0.0   0.000000  0.000000  "
      ]
     },
     "execution_count": 37,
     "metadata": {},
     "output_type": "execute_result"
    }
   ],
   "source": [
    "# print(len(hbos_orig[lambda x:x['Class']==1]))\n",
    "hbosTEST_orig"
   ]
  },
  {
   "cell_type": "code",
   "execution_count": 38,
   "metadata": {},
   "outputs": [
    {
     "data": {
      "text/plain": [
       "2.720159303405957"
      ]
     },
     "execution_count": 38,
     "metadata": {},
     "output_type": "execute_result"
    }
   ],
   "source": [
    "np.max(hbos_top1000_data[\"sub_month\"])"
   ]
  },
  {
   "cell_type": "code",
   "execution_count": 28,
   "metadata": {},
   "outputs": [],
   "source": [
    "# from matplotlib import pyplot as plt\n",
    "# print(hbos_top1000_data['Class'].cumsum().sum())\n",
    "# plt.scatter(range(1000),hbos_top1000_data['Class'].cumsum(),marker='1')\n",
    "# plt.xlabel('Top N data')\n",
    "# plt.ylabel('Anomalies found')\n",
    "# plt.show()"
   ]
  },
  {
   "cell_type": "code",
   "execution_count": null,
   "metadata": {},
   "outputs": [],
   "source": []
  }
 ],
 "metadata": {
  "kernelspec": {
   "display_name": "Python 3",
   "language": "python",
   "name": "python3"
  },
  "language_info": {
   "codemirror_mode": {
    "name": "ipython",
    "version": 3
   },
   "file_extension": ".py",
   "mimetype": "text/x-python",
   "name": "python",
   "nbconvert_exporter": "python",
   "pygments_lexer": "ipython3",
   "version": "3.7.1"
  }
 },
 "nbformat": 4,
 "nbformat_minor": 2
}
